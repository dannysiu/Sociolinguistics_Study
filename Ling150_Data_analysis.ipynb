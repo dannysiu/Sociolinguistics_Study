{
 "cells": [
  {
   "cell_type": "code",
   "execution_count": null,
   "metadata": {
    "colab": {},
    "colab_type": "code",
    "id": "icGaz3h---QJ"
   },
   "outputs": [],
   "source": []
  },
  {
   "cell_type": "markdown",
   "metadata": {
    "colab_type": "text",
    "id": "RIADtUDDHRi8"
   },
   "source": [
    "## **Ling150 Project on Affirmation and Declination Responses**"
   ]
  },
  {
   "cell_type": "markdown",
   "metadata": {
    "colab_type": "text",
    "id": "pMZ-aOocF1Sf"
   },
   "source": [
    "**Loading needed libraries**"
   ]
  },
  {
   "cell_type": "code",
   "execution_count": 1,
   "metadata": {
    "colab": {},
    "colab_type": "code",
    "id": "ERHnRyvx-7aO"
   },
   "outputs": [],
   "source": [
    "import pandas as pd\n",
    "import numpy as np\n",
    "import random\n",
    "import matplotlib.pyplot as plt\n",
    "import seaborn as sns\n",
    "import os\n",
    "from pathlib import Path\n",
    "\n",
    "plt.rcParams['figure.figsize'] = (12, 9)\n",
    "plt.rcParams['font.size'] = 12\n",
    "\n",
    "sns.set(style=\"whitegrid\", palette=\"muted\")\n",
    "%matplotlib inline"
   ]
  },
  {
   "cell_type": "code",
   "execution_count": null,
   "metadata": {
    "colab": {},
    "colab_type": "code",
    "id": "D6A0v9tdF_PM"
   },
   "outputs": [],
   "source": []
  },
  {
   "cell_type": "markdown",
   "metadata": {
    "colab_type": "text",
    "id": "Ki3AuK4iF_BZ"
   },
   "source": [
    "**Loading and Formatting Data**"
   ]
  },
  {
   "cell_type": "code",
   "execution_count": 2,
   "metadata": {
    "colab": {
     "base_uri": "https://localhost:8080/",
     "height": 34
    },
    "colab_type": "code",
    "id": "s_7zY7zPIXnK",
    "outputId": "0dde06cd-0f22-42cd-a88f-16b1f43ffcfe"
   },
   "outputs": [],
   "source": [
    "# # for Google Colab notebook\n",
    "\n",
    "# # run the following cells to mount the local drive and load the data\n",
    "# from google.colab import drive\n",
    "# drive.mount('/content/drive')\n",
    "# root_path = 'drive/My Drive/Ling150 Project/data'  #change dir to my project folder"
   ]
  },
  {
   "cell_type": "code",
   "execution_count": 3,
   "metadata": {
    "colab": {
     "base_uri": "https://localhost:8080/",
     "height": 52
    },
    "colab_type": "code",
    "id": "65Rq3zIxIdgX",
    "outputId": "36ea6b07-e207-4dec-f502-b453713257c5"
   },
   "outputs": [],
   "source": [
    "# # for Google Colab notebook\n",
    "\n",
    "# # Run this cell to load the data. \n",
    "# print(\"Importing training set...\")\n",
    "# data_file = Path(root_path, \"ling150_proj_data.csv\")\n",
    "# df = pd.read_csv(data_file)\n",
    "\n",
    "# print(\"Done! Go model some data now!\")"
   ]
  },
  {
   "cell_type": "code",
   "execution_count": 4,
   "metadata": {},
   "outputs": [
    {
     "name": "stdout",
     "output_type": "stream",
     "text": [
      "Importing training set...\n",
      "Done! Go model some data now!\n"
     ]
    }
   ],
   "source": [
    "# for Jupyter iPython notebook. Can run using the Anaconda environment into your browser\n",
    "\n",
    "# Run this cell to load the data. \n",
    "print(\"Importing training set...\")\n",
    "data_file = Path(\"ling150_proj_data.csv\")\n",
    "df = pd.read_csv(data_file)\n",
    "\n",
    "print(\"Done! Go model some data now!\")"
   ]
  },
  {
   "cell_type": "code",
   "execution_count": 5,
   "metadata": {
    "colab": {
     "base_uri": "https://localhost:8080/",
     "height": 197
    },
    "colab_type": "code",
    "id": "T6pH5QhbHBc1",
    "outputId": "0c1af268-dc61-4c26-dfb6-692e76de700a",
    "scrolled": true
   },
   "outputs": [
    {
     "data": {
      "text/html": [
       "<div>\n",
       "<style scoped>\n",
       "    .dataframe tbody tr th:only-of-type {\n",
       "        vertical-align: middle;\n",
       "    }\n",
       "\n",
       "    .dataframe tbody tr th {\n",
       "        vertical-align: top;\n",
       "    }\n",
       "\n",
       "    .dataframe thead th {\n",
       "        text-align: right;\n",
       "    }\n",
       "</style>\n",
       "<table border=\"1\" class=\"dataframe\">\n",
       "  <thead>\n",
       "    <tr style=\"text-align: right;\">\n",
       "      <th></th>\n",
       "      <th>Response variants</th>\n",
       "      <th>Addresser</th>\n",
       "      <th>Sex_addresser</th>\n",
       "      <th>Race_addresser</th>\n",
       "      <th>Relationship</th>\n",
       "      <th>Addressee</th>\n",
       "      <th>Sex_addressee</th>\n",
       "      <th>Race_addressee</th>\n",
       "      <th>Situational Context</th>\n",
       "      <th>Location</th>\n",
       "      <th>Response type</th>\n",
       "    </tr>\n",
       "  </thead>\n",
       "  <tbody>\n",
       "    <tr>\n",
       "      <th>0</th>\n",
       "      <td>Kay</td>\n",
       "      <td>Jonathan</td>\n",
       "      <td>M</td>\n",
       "      <td>Chinese</td>\n",
       "      <td>good friend</td>\n",
       "      <td>Vincent</td>\n",
       "      <td>M</td>\n",
       "      <td>Chinese</td>\n",
       "      <td>NaN</td>\n",
       "      <td>in apartment</td>\n",
       "      <td>Affirmation</td>\n",
       "    </tr>\n",
       "    <tr>\n",
       "      <th>1</th>\n",
       "      <td>Yeah</td>\n",
       "      <td>Vincent</td>\n",
       "      <td>M</td>\n",
       "      <td>Chinese</td>\n",
       "      <td>good friend</td>\n",
       "      <td>Jonathan</td>\n",
       "      <td>M</td>\n",
       "      <td>Chinese</td>\n",
       "      <td>NaN</td>\n",
       "      <td>in apartment</td>\n",
       "      <td>Affirmation</td>\n",
       "    </tr>\n",
       "    <tr>\n",
       "      <th>2</th>\n",
       "      <td>Yeah</td>\n",
       "      <td>Jonathan</td>\n",
       "      <td>M</td>\n",
       "      <td>Chinese</td>\n",
       "      <td>good friend</td>\n",
       "      <td>Me</td>\n",
       "      <td>M</td>\n",
       "      <td>Chinese</td>\n",
       "      <td>NaN</td>\n",
       "      <td>in apartment</td>\n",
       "      <td>Affirmation</td>\n",
       "    </tr>\n",
       "    <tr>\n",
       "      <th>3</th>\n",
       "      <td>Yeah</td>\n",
       "      <td>Ethan</td>\n",
       "      <td>M</td>\n",
       "      <td>Chinese</td>\n",
       "      <td>good friend</td>\n",
       "      <td>Jonathan</td>\n",
       "      <td>M</td>\n",
       "      <td>Chinese</td>\n",
       "      <td>NaN</td>\n",
       "      <td>in apartment</td>\n",
       "      <td>Affirmation</td>\n",
       "    </tr>\n",
       "    <tr>\n",
       "      <th>4</th>\n",
       "      <td>Yeah</td>\n",
       "      <td>Ethan</td>\n",
       "      <td>M</td>\n",
       "      <td>Chinese</td>\n",
       "      <td>good friend</td>\n",
       "      <td>Me</td>\n",
       "      <td>M</td>\n",
       "      <td>Chinese</td>\n",
       "      <td>NaN</td>\n",
       "      <td>in apartment</td>\n",
       "      <td>Affirmation</td>\n",
       "    </tr>\n",
       "  </tbody>\n",
       "</table>\n",
       "</div>"
      ],
      "text/plain": [
       "  Response variants Addresser Sex_addresser Race_addresser Relationship  \\\n",
       "0               Kay  Jonathan             M        Chinese  good friend   \n",
       "1              Yeah   Vincent             M        Chinese  good friend   \n",
       "2              Yeah  Jonathan             M        Chinese  good friend   \n",
       "3              Yeah     Ethan             M        Chinese  good friend   \n",
       "4              Yeah     Ethan             M        Chinese  good friend   \n",
       "\n",
       "  Addressee Sex_addressee Race_addressee Situational Context      Location  \\\n",
       "0   Vincent             M        Chinese                 NaN  in apartment   \n",
       "1  Jonathan             M        Chinese                 NaN  in apartment   \n",
       "2        Me             M        Chinese                 NaN  in apartment   \n",
       "3  Jonathan             M        Chinese                 NaN  in apartment   \n",
       "4        Me             M        Chinese                 NaN  in apartment   \n",
       "\n",
       "  Response type  \n",
       "0   Affirmation  \n",
       "1   Affirmation  \n",
       "2   Affirmation  \n",
       "3   Affirmation  \n",
       "4   Affirmation  "
      ]
     },
     "execution_count": 5,
     "metadata": {},
     "output_type": "execute_result"
    }
   ],
   "source": [
    "df.head()"
   ]
  },
  {
   "cell_type": "markdown",
   "metadata": {
    "colab_type": "text",
    "id": "zSqHMyoVGurj"
   },
   "source": [
    "**Cleaning Data**"
   ]
  },
  {
   "cell_type": "code",
   "execution_count": 6,
   "metadata": {
    "colab": {
     "base_uri": "https://localhost:8080/",
     "height": 406
    },
    "colab_type": "code",
    "id": "SjWrgMRLGyrb",
    "outputId": "38814832-9fb0-44fa-9281-918ee9f60fd9"
   },
   "outputs": [],
   "source": [
    "df = df.rename(columns={\"Response variants\" : \"response\", \"Addresser\" : \"addresser\", \"Sex_addresser\" : \"sex_addresser\",\n",
    "                   \"Race_addresser\" : \"race_addresser\", \"Relationship\" : \"relationship\", \"Addressee\" : \"addressee\", \n",
    "                   \"Sex_addressee\" : \"sex_addressee\", \"Race_addressee\" : \"race_addressee\",\n",
    "                   \"Situational Context\" : \"situational_context\", \"Location\" : \"location\", \n",
    "                   \"Response type\" : \"response_type\"})"
   ]
  },
  {
   "cell_type": "code",
   "execution_count": 7,
   "metadata": {
    "colab": {
     "base_uri": "https://localhost:8080/",
     "height": 34
    },
    "colab_type": "code",
    "id": "mZXgutimGyhT",
    "outputId": "e6f853c4-29c7-4626-fbf5-6ada1ed6179c"
   },
   "outputs": [
    {
     "name": "stdout",
     "output_type": "stream",
     "text": [
      "['response', 'addresser', 'sex_addresser', 'race_addresser', 'relationship', 'addressee', 'sex_addressee', 'race_addressee', 'situational_context', 'location', 'response_type']\n"
     ]
    }
   ],
   "source": [
    "column_list = list(df.columns)\n",
    "print(column_list)"
   ]
  },
  {
   "cell_type": "code",
   "execution_count": 8,
   "metadata": {
    "colab": {},
    "colab_type": "code",
    "id": "f4UbzJUHNwDV"
   },
   "outputs": [],
   "source": [
    "df['clean_response'] = df['response'].str.lower()\n",
    "df['relationship'] = df['relationship'].str.lower()"
   ]
  },
  {
   "cell_type": "code",
   "execution_count": 9,
   "metadata": {
    "colab": {},
    "colab_type": "code",
    "id": "HVmvMpmMUrfV"
   },
   "outputs": [],
   "source": [
    "df['clean_response'] = df['clean_response'].str.replace(\",\", \"\")    #Remove commas\n",
    "df['clean_response'] = df['clean_response'].str.replace(\"?\", \"\")    #Remove punctuation\n",
    "df['clean_response'] = df['clean_response'].str.replace(\".\", \"\")    #Remove punctuation\n",
    "df['clean_response'] = df['clean_response'].str.replace(\"so \", \"\")   #Remove leading uncertainty sound\n",
    "df['clean_response'] = df['clean_response'].str.replace(\"uhh\", \"\")  #Remove leading uncertainty sound\n",
    "df['clean_response'] = df['clean_response'].str.replace(\"ohhh\", \"\")   #Remove leading \"oh\" sound\n",
    "df['clean_response'] = df['clean_response'].str.replace(\"oh\", \"\")   #Remove leading \"oh\" sound\n",
    "df['clean_response'] = df['clean_response'].str.replace(\"yeahhh\", \"yeah\")   #Made length of \"yeah\" response uniform\n",
    "df['clean_response'] = df['clean_response'].str.strip()             #Remove leading and trailing characters, like whitespace\n",
    "\n",
    "df['clean_response'].loc[df['clean_response'] == 'ew no'] = \"no\"    #Removing the effect of leading and trailing words, and correcting non-uniform data input\n",
    "df['clean_response'].loc[df['clean_response'] == \"eh it's okay\"] = \"it's okay\"\n",
    "df['clean_response'].loc[df['clean_response'] == \"yeahyeahyeah\"] = \"yeah yeah yeah\"\n",
    "df['clean_response'].loc[df['clean_response'] == \"yeah there we go\"] = \"yeah\"\n",
    "df['clean_response'].loc[df['clean_response'] == \"eh it's okay\"] = \"it's okay\"\n",
    "df['clean_response'].loc[df['clean_response'] == \"but yeah\"] = \"yeah\"\n",
    "df['clean_response'].loc[df['clean_response'] == \"well yeah\"] = \"yeah\"\n",
    "df['clean_response'].loc[df['clean_response'] == \"eh it's okay\"] = \"it's okay\"\n",
    "df['clean_response'].loc[df['clean_response'] == \"kay\"] = \"okay\"\n",
    "df['clean_response'].loc[df['clean_response'] == \"yeah man\"] = \"yeah\"\n",
    "df['clean_response'].loc[df['clean_response'] == \"mmm not sure\"] = \"not sure\"\n",
    "df['clean_response'].loc[df['clean_response'] == \"oh yeah?\"] = \"yeah\"\n",
    "df['clean_response'].loc[df['clean_response'] == \"uh yeah\"] = \"yeah\"\n",
    "df['clean_response'].loc[df['clean_response'] == \"yeah so\"] = \"yeah\"\n",
    "df['clean_response'].loc[df['clean_response'] == \"no it's okay\"] = \"no\"\n",
    "df['clean_response'].loc[df['clean_response'] == \"yeah i know\"] = \"yeah\"\n",
    "df['clean_response'].loc[df['clean_response'] == \"but yeah sure\"] = \"yeah sure\"\n",
    "df['clean_response'] = df['clean_response'].str.strip()             #Remove leading and trailing characters, like whitespace\n"
   ]
  },
  {
   "cell_type": "code",
   "execution_count": 10,
   "metadata": {
    "colab": {
     "base_uri": "https://localhost:8080/",
     "height": 941
    },
    "colab_type": "code",
    "id": "yBxV_HxPWzl8",
    "outputId": "f35d553e-56ff-4569-ca68-debc35e50ae0"
   },
   "outputs": [
    {
     "name": "stdout",
     "output_type": "stream",
     "text": [
      "yeah              111\n",
      "no                 19\n",
      "okay               14\n",
      "mm-hmm             12\n",
      "yes                10\n",
      "yeah yeah yeah      8\n",
      "sure                7\n",
      "alright             3\n",
      "right               3\n",
      "mm                  2\n",
      "nice                2\n",
      "uh-huh              2\n",
      "yeah okay           2\n",
      "nah                 2\n",
      "yep                 2\n",
      "that's cool         1\n",
      "aight               1\n",
      "exactly             1\n",
      "hopefully           1\n",
      "guess so            1\n",
      "okay yeah           1\n",
      "heck yeah           1\n",
      "no no no            1\n",
      "it's okay           1\n",
      "naw it's fine       1\n",
      "not really          1\n",
      "of course           1\n",
      "nope                1\n",
      "yeah yeah           1\n",
      "right right         1\n",
      "yes yes             1\n",
      "no it’s okay        1\n",
      "think so            1\n",
      "not sure            1\n",
      "yeah sure           1\n",
      "nice okay           1\n",
      "okay great          1\n",
      "sounds good         1\n",
      "yeah exactly        1\n",
      "no sorry            1\n",
      "Name: clean_response, dtype: int64\n"
     ]
    }
   ],
   "source": [
    "print(df['clean_response'].value_counts())"
   ]
  },
  {
   "cell_type": "code",
   "execution_count": null,
   "metadata": {},
   "outputs": [],
   "source": []
  },
  {
   "cell_type": "code",
   "execution_count": 11,
   "metadata": {
    "colab": {},
    "colab_type": "code",
    "id": "EmvUX_OTZuCk"
   },
   "outputs": [],
   "source": [
    "df['addresser'] = df['addresser'].str.strip()             #Remove leading and trailing characters, like whitespace\n",
    "df['addresser'].loc[df['addresser'] == 'college student'] = \"student\"    #Removing the effect of leading and trailing words, and correcting non-uniform data input\n",
    "df['addresser'].loc[df['addresser'] == 'Ling150 student'] = \"student\"\n",
    "df['addresser'].loc[df['addresser'] == 'Confused student'] = \"student\"\n",
    "df['addresser'].loc[df['addresser'] == 'Sarah (TA)'] = \"Sarah\"\n",
    "df['addresser'].loc[df['addresser'] == 'Student'] = \"student\"\n",
    "df['addresser'] = df['addresser'].str.strip()             #Remove leading and trailing characters, like whitespace\n"
   ]
  },
  {
   "cell_type": "code",
   "execution_count": 12,
   "metadata": {
    "colab": {},
    "colab_type": "code",
    "id": "vEiX0bDp_aLz"
   },
   "outputs": [
    {
     "name": "stdout",
     "output_type": "stream",
     "text": [
      "student                 91\n",
      "Gwen                    17\n",
      "TA                      15\n",
      "Tim Newman              12\n",
      "Jonathan                11\n",
      "Vincent                 10\n",
      "Ethan                    9\n",
      "Jenny Kim                7\n",
      "Amanda                   6\n",
      "woman                    6\n",
      "Charis                   6\n",
      "Joseph Park              4\n",
      "Sarah                    4\n",
      "Joyce                    3\n",
      "Me                       3\n",
      "customer                 2\n",
      "wife                     2\n",
      "Hispanic woman           2\n",
      "father                   2\n",
      "Amazon help desk         2\n",
      "MLK help desk            2\n",
      "Inez                     2\n",
      "restaurant cashier       1\n",
      "Tim Cruz                 1\n",
      "Justin Hoong             1\n",
      "Maryo                    1\n",
      "photographer student     1\n",
      "man                      1\n",
      "Name: addresser, dtype: int64\n"
     ]
    }
   ],
   "source": [
    "print(df['addresser'].value_counts())"
   ]
  },
  {
   "cell_type": "code",
   "execution_count": 13,
   "metadata": {
    "colab": {},
    "colab_type": "code",
    "id": "gxS523GLHcdS"
   },
   "outputs": [],
   "source": [
    "df['addressee'] = df['addressee'].str.strip()             #Remove leading and trailing characters, like whitespace\n",
    "df['addressee'].loc[df['addressee'] == 'college student'] = \"student\"    #Removing the effect of leading and trailing words, and correcting non-uniform data input\n",
    "df['addressee'].loc[df['addressee'] == 'Ling150 student'] = \"student\"\n",
    "df['addressee'].loc[df['addressee'] == 'Confused student'] = \"student\"\n",
    "df['addressee'].loc[df['addressee'] == 'Sarah (TA)'] = \"Sarah\"\n",
    "df['addressee'].loc[df['addressee'] == 'Student'] = \"student\"\n",
    "df['addressee'].loc[df['addressee'] == 'female student'] = \"student\"\n",
    "df['addressee'].loc[df['addressee'] == 'black woman'] = \"woman\"\n",
    "df['addressee'].loc[df['addressee'] == 'male TA'] = \"TA\"\n",
    "df['addressee'] = df['addressee'].str.strip()             #Remove leading and trailing characters, like whitespace\n"
   ]
  },
  {
   "cell_type": "code",
   "execution_count": 14,
   "metadata": {
    "colab": {},
    "colab_type": "code",
    "id": "PgLpYL5YHcwX"
   },
   "outputs": [
    {
     "name": "stdout",
     "output_type": "stream",
     "text": [
      "student                       90\n",
      "Me                            81\n",
      "TA                            16\n",
      "Jonathan                      10\n",
      "woman                          8\n",
      "Vincent                        5\n",
      "Charis                         3\n",
      "Tim Cruz                       2\n",
      "Joyce                          2\n",
      "restaurant cashier             2\n",
      "father                         1\n",
      "group of Caucasian friends     1\n",
      "man                            1\n",
      "Name: addressee, dtype: int64\n"
     ]
    }
   ],
   "source": [
    "print(df['addressee'].value_counts())"
   ]
  },
  {
   "cell_type": "code",
   "execution_count": 15,
   "metadata": {
    "colab": {},
    "colab_type": "code",
    "id": "gxS523GLHcdS"
   },
   "outputs": [],
   "source": [
    "df['relationship'] = df['relationship'].str.strip()             #Remove leading and trailing characters, like whitespace\n",
    "# Removing the effect of leading and trailing words, and correcting non-uniform data input\n",
    "df['relationship'].loc[df['relationship'] == 'on the phone, walking by'] = \"on the phone\"    \n"
   ]
  },
  {
   "cell_type": "code",
   "execution_count": 16,
   "metadata": {
    "colab": {},
    "colab_type": "code",
    "id": "PgLpYL5YHcwX",
    "scrolled": true
   },
   "outputs": [
    {
     "name": "stdout",
     "output_type": "stream",
     "text": [
      "friend            87\n",
      "good friend       71\n",
      "teaching          32\n",
      "fellow student    17\n",
      "customer           7\n",
      "parent             3\n",
      "acquaintance       2\n",
      "strangers          2\n",
      "on the phone       1\n",
      "Name: relationship, dtype: int64\n"
     ]
    }
   ],
   "source": [
    "print(df['relationship'].value_counts())"
   ]
  },
  {
   "cell_type": "code",
   "execution_count": 17,
   "metadata": {
    "colab_type": "text",
    "id": "1HNv1-kOHdAc"
   },
   "outputs": [
    {
     "data": {
      "text/html": [
       "<div>\n",
       "<style scoped>\n",
       "    .dataframe tbody tr th:only-of-type {\n",
       "        vertical-align: middle;\n",
       "    }\n",
       "\n",
       "    .dataframe tbody tr th {\n",
       "        vertical-align: top;\n",
       "    }\n",
       "\n",
       "    .dataframe thead th {\n",
       "        text-align: right;\n",
       "    }\n",
       "</style>\n",
       "<table border=\"1\" class=\"dataframe\">\n",
       "  <thead>\n",
       "    <tr style=\"text-align: right;\">\n",
       "      <th></th>\n",
       "      <th>response</th>\n",
       "      <th>addresser</th>\n",
       "      <th>sex_addresser</th>\n",
       "      <th>race_addresser</th>\n",
       "      <th>relationship</th>\n",
       "      <th>addressee</th>\n",
       "      <th>sex_addressee</th>\n",
       "      <th>race_addressee</th>\n",
       "      <th>situational_context</th>\n",
       "      <th>location</th>\n",
       "      <th>response_type</th>\n",
       "      <th>clean_response</th>\n",
       "    </tr>\n",
       "  </thead>\n",
       "  <tbody>\n",
       "    <tr>\n",
       "      <th>0</th>\n",
       "      <td>Kay</td>\n",
       "      <td>Jonathan</td>\n",
       "      <td>M</td>\n",
       "      <td>Chinese</td>\n",
       "      <td>good friend</td>\n",
       "      <td>Vincent</td>\n",
       "      <td>M</td>\n",
       "      <td>Chinese</td>\n",
       "      <td>NaN</td>\n",
       "      <td>in apartment</td>\n",
       "      <td>Affirmation</td>\n",
       "      <td>okay</td>\n",
       "    </tr>\n",
       "    <tr>\n",
       "      <th>1</th>\n",
       "      <td>Yeah</td>\n",
       "      <td>Vincent</td>\n",
       "      <td>M</td>\n",
       "      <td>Chinese</td>\n",
       "      <td>good friend</td>\n",
       "      <td>Jonathan</td>\n",
       "      <td>M</td>\n",
       "      <td>Chinese</td>\n",
       "      <td>NaN</td>\n",
       "      <td>in apartment</td>\n",
       "      <td>Affirmation</td>\n",
       "      <td>yeah</td>\n",
       "    </tr>\n",
       "    <tr>\n",
       "      <th>2</th>\n",
       "      <td>Yeah</td>\n",
       "      <td>Jonathan</td>\n",
       "      <td>M</td>\n",
       "      <td>Chinese</td>\n",
       "      <td>good friend</td>\n",
       "      <td>Me</td>\n",
       "      <td>M</td>\n",
       "      <td>Chinese</td>\n",
       "      <td>NaN</td>\n",
       "      <td>in apartment</td>\n",
       "      <td>Affirmation</td>\n",
       "      <td>yeah</td>\n",
       "    </tr>\n",
       "    <tr>\n",
       "      <th>3</th>\n",
       "      <td>Yeah</td>\n",
       "      <td>Ethan</td>\n",
       "      <td>M</td>\n",
       "      <td>Chinese</td>\n",
       "      <td>good friend</td>\n",
       "      <td>Jonathan</td>\n",
       "      <td>M</td>\n",
       "      <td>Chinese</td>\n",
       "      <td>NaN</td>\n",
       "      <td>in apartment</td>\n",
       "      <td>Affirmation</td>\n",
       "      <td>yeah</td>\n",
       "    </tr>\n",
       "    <tr>\n",
       "      <th>4</th>\n",
       "      <td>Yeah</td>\n",
       "      <td>Ethan</td>\n",
       "      <td>M</td>\n",
       "      <td>Chinese</td>\n",
       "      <td>good friend</td>\n",
       "      <td>Me</td>\n",
       "      <td>M</td>\n",
       "      <td>Chinese</td>\n",
       "      <td>NaN</td>\n",
       "      <td>in apartment</td>\n",
       "      <td>Affirmation</td>\n",
       "      <td>yeah</td>\n",
       "    </tr>\n",
       "  </tbody>\n",
       "</table>\n",
       "</div>"
      ],
      "text/plain": [
       "  response addresser sex_addresser race_addresser relationship addressee  \\\n",
       "0      Kay  Jonathan             M        Chinese  good friend   Vincent   \n",
       "1     Yeah   Vincent             M        Chinese  good friend  Jonathan   \n",
       "2     Yeah  Jonathan             M        Chinese  good friend        Me   \n",
       "3     Yeah     Ethan             M        Chinese  good friend  Jonathan   \n",
       "4     Yeah     Ethan             M        Chinese  good friend        Me   \n",
       "\n",
       "  sex_addressee race_addressee situational_context      location  \\\n",
       "0             M        Chinese                 NaN  in apartment   \n",
       "1             M        Chinese                 NaN  in apartment   \n",
       "2             M        Chinese                 NaN  in apartment   \n",
       "3             M        Chinese                 NaN  in apartment   \n",
       "4             M        Chinese                 NaN  in apartment   \n",
       "\n",
       "  response_type clean_response  \n",
       "0   Affirmation           okay  \n",
       "1   Affirmation           yeah  \n",
       "2   Affirmation           yeah  \n",
       "3   Affirmation           yeah  \n",
       "4   Affirmation           yeah  "
      ]
     },
     "execution_count": 17,
     "metadata": {},
     "output_type": "execute_result"
    }
   ],
   "source": [
    "df.head()"
   ]
  },
  {
   "cell_type": "code",
   "execution_count": 18,
   "metadata": {},
   "outputs": [],
   "source": [
    "for col in column_list:\n",
    "    df[col] = df[col].str.strip()            #Remove leading and trailing characters, like whitespace)"
   ]
  },
  {
   "cell_type": "code",
   "execution_count": 19,
   "metadata": {
    "colab": {},
    "colab_type": "code",
    "id": "PgLpYL5YHcwX",
    "scrolled": false
   },
   "outputs": [
    {
     "name": "stdout",
     "output_type": "stream",
     "text": [
      "M    117\n",
      "F    107\n",
      "Name: sex_addresser, dtype: int64\n"
     ]
    }
   ],
   "source": [
    "print(df['sex_addresser'].value_counts())"
   ]
  },
  {
   "cell_type": "code",
   "execution_count": 20,
   "metadata": {
    "colab": {},
    "colab_type": "code",
    "id": "PgLpYL5YHcwX",
    "scrolled": false
   },
   "outputs": [
    {
     "name": "stdout",
     "output_type": "stream",
     "text": [
      "Chinese        74\n",
      "Caucasian      40\n",
      "Indian         30\n",
      "Hispanic       18\n",
      "Asian Mixed    16\n",
      "Asian          12\n",
      "Korean         12\n",
      "Black           2\n",
      "Egyptian        1\n",
      "Vietnamese      1\n",
      "Filipino        1\n",
      "Name: race_addresser, dtype: int64\n"
     ]
    }
   ],
   "source": [
    "print(df['race_addresser'].value_counts())"
   ]
  },
  {
   "cell_type": "code",
   "execution_count": 21,
   "metadata": {},
   "outputs": [],
   "source": [
    "# I'm going to use the labels of race as determine by the US Census Bureau\n",
    "# https://www.census.gov/mso/www/training/pdf/race-ethnicity-onepager.pdf\n",
    "# So, my labels will comprise of \"White\", \"Black or African American\", \"American Indian or Alaska Native\", \n",
    "# \"Asian\", and \"Native Hawaiian or Other Pacific Islander\"\n",
    "# For the sake of my data results, I will further split the category \"Asian\" into \"East Asian\" and \"Indian\"\n",
    "# Because I couldn't tell who was Chinese sometimes, and just put \"Asian\", \n",
    "# I'm going to label all people of East Asian origin as \"East Asian\"\n",
    "\n",
    "# Applying race category labels to addressers\n",
    "# Normalizing East Asian people into the category \"East Asian\"\n",
    "df['race_addresser'].loc[df['race_addresser'] == 'Asian'] = \"East Asian\" \n",
    "df['race_addresser'].loc[df['race_addresser'] == 'Chinese'] = \"East Asian\" \n",
    "df['race_addresser'].loc[df['race_addresser'] == 'Asian Mixed'] = \"East Asian\" \n",
    "df['race_addresser'].loc[df['race_addresser'] == 'Korean'] = \"East Asian\" \n",
    "df['race_addresser'].loc[df['race_addresser'] == 'Vietnamese'] = \"East Asian\" \n",
    "df['race_addresser'].loc[df['race_addresser'] == 'Filipino'] = \"Pacific Islander\" "
   ]
  },
  {
   "cell_type": "code",
   "execution_count": 22,
   "metadata": {},
   "outputs": [],
   "source": [
    "# Going to apply the same labels to addressees as well\n",
    "\n",
    "df['race_addressee'].loc[df['race_addressee'] == 'Asian'] = \"East Asian\" \n",
    "df['race_addressee'].loc[df['race_addressee'] == 'Chinese'] = \"East Asian\" \n",
    "df['race_addressee'].loc[df['race_addressee'] == 'Asian Mixed'] = \"East Asian\" \n",
    "df['race_addressee'].loc[df['race_addressee'] == 'Korean'] = \"East Asian\" \n",
    "df['race_addressee'].loc[df['race_addressee'] == 'Vietnamese'] = \"East Asian\" \n",
    "df['race_addressee'].loc[df['race_addressee'] == 'Filipino'] = \"Pacific Islander\" "
   ]
  },
  {
   "cell_type": "code",
   "execution_count": 23,
   "metadata": {
    "colab": {},
    "colab_type": "code",
    "id": "PgLpYL5YHcwX",
    "scrolled": true
   },
   "outputs": [
    {
     "name": "stdout",
     "output_type": "stream",
     "text": [
      "M    172\n",
      "F     49\n",
      "Name: sex_addressee, dtype: int64\n"
     ]
    }
   ],
   "source": [
    "print(df['sex_addressee'].value_counts())"
   ]
  },
  {
   "cell_type": "code",
   "execution_count": 24,
   "metadata": {
    "colab": {},
    "colab_type": "code",
    "id": "PgLpYL5YHcwX",
    "scrolled": true
   },
   "outputs": [
    {
     "name": "stdout",
     "output_type": "stream",
     "text": [
      "East Asian          149\n",
      "Caucasian            24\n",
      "Hispanic             16\n",
      "Indian               16\n",
      "Black                 4\n",
      "Pacific Islander      2\n",
      "Name: race_addressee, dtype: int64\n"
     ]
    }
   ],
   "source": [
    "print(df['race_addressee'].value_counts())"
   ]
  },
  {
   "cell_type": "code",
   "execution_count": 25,
   "metadata": {
    "colab": {},
    "colab_type": "code",
    "id": "jlk-aKXsHdS6"
   },
   "outputs": [
    {
     "name": "stdout",
     "output_type": "stream",
     "text": [
      "class         71\n",
      "MLK           55\n",
      "apartment     47\n",
      "phone call    23\n",
      "street        10\n",
      "GBC           10\n",
      "restaurant     5\n",
      "RSF            3\n",
      "Name: location, dtype: int64\n"
     ]
    }
   ],
   "source": [
    "df['location'].loc[df['location'] == 'Data 8 lab'] = \"in class\" \n",
    "df['location'] = df['location'].str.replace(\"in \", \"\")         #Remove \"in \"\n",
    "df['location'] = df['location'].str.replace(\"outside \", \"\")    #Remove \"outside \"\n",
    "\n",
    "print(df['location'].value_counts())"
   ]
  },
  {
   "cell_type": "code",
   "execution_count": 26,
   "metadata": {},
   "outputs": [
    {
     "name": "stdout",
     "output_type": "stream",
     "text": [
      "['response', 'addresser', 'sex_addresser', 'race_addresser', 'relationship', 'addressee', 'sex_addressee', 'race_addressee', 'situational_context', 'location', 'response_type', 'clean_response']\n"
     ]
    }
   ],
   "source": [
    "column_list = list(df.columns)\n",
    "print(column_list)"
   ]
  },
  {
   "cell_type": "code",
   "execution_count": 27,
   "metadata": {
    "colab": {
     "base_uri": "https://localhost:8080/",
     "height": 1000
    },
    "colab_type": "code",
    "id": "YFXRQP6lNwJU",
    "outputId": "64cdd2ed-cbbc-4f47-917f-6544a432eec5"
   },
   "outputs": [
    {
     "name": "stdout",
     "output_type": "stream",
     "text": [
      "Column is: ' addresser '\n",
      "student                 91\n",
      "Gwen                    17\n",
      "TA                      15\n",
      "Tim Newman              12\n",
      "Jonathan                11\n",
      "Vincent                 10\n",
      "Ethan                    9\n",
      "Jenny Kim                7\n",
      "Amanda                   6\n",
      "woman                    6\n",
      "Charis                   6\n",
      "Joseph Park              4\n",
      "Sarah                    4\n",
      "Joyce                    3\n",
      "Me                       3\n",
      "customer                 2\n",
      "wife                     2\n",
      "Hispanic woman           2\n",
      "father                   2\n",
      "Amazon help desk         2\n",
      "MLK help desk            2\n",
      "Inez                     2\n",
      "restaurant cashier       1\n",
      "Tim Cruz                 1\n",
      "Justin Hoong             1\n",
      "Maryo                    1\n",
      "photographer student     1\n",
      "man                      1\n",
      "Name: addresser, dtype: int64\n",
      "Column is: ' sex_addresser '\n",
      "M    117\n",
      "F    107\n",
      "Name: sex_addresser, dtype: int64\n",
      "Column is: ' race_addresser '\n",
      "East Asian          115\n",
      "Caucasian            40\n",
      "Indian               30\n",
      "Hispanic             18\n",
      "Black                 2\n",
      "Egyptian              1\n",
      "Pacific Islander      1\n",
      "Name: race_addresser, dtype: int64\n",
      "Column is: ' relationship '\n",
      "friend            87\n",
      "good friend       71\n",
      "teaching          32\n",
      "fellow student    17\n",
      "customer           7\n",
      "parent             3\n",
      "acquaintance       2\n",
      "strangers          2\n",
      "on the phone       1\n",
      "Name: relationship, dtype: int64\n",
      "Column is: ' addressee '\n",
      "student                       90\n",
      "Me                            81\n",
      "TA                            16\n",
      "Jonathan                      10\n",
      "woman                          8\n",
      "Vincent                        5\n",
      "Charis                         3\n",
      "Tim Cruz                       2\n",
      "Joyce                          2\n",
      "restaurant cashier             2\n",
      "father                         1\n",
      "group of Caucasian friends     1\n",
      "man                            1\n",
      "Name: addressee, dtype: int64\n",
      "Column is: ' sex_addressee '\n",
      "M    172\n",
      "F     49\n",
      "Name: sex_addressee, dtype: int64\n",
      "Column is: ' race_addressee '\n",
      "East Asian          149\n",
      "Caucasian            24\n",
      "Hispanic             16\n",
      "Indian               16\n",
      "Black                 4\n",
      "Pacific Islander      2\n",
      "Name: race_addressee, dtype: int64\n",
      "Column is: ' situational_context '\n",
      "late night conversation                                            4\n",
      "on the phone, walking by                                           2\n",
      "sitting in street chairs                                           1\n",
      "talking about correctness of an answer                             1\n",
      "wife gives confirming answer as husband talks to female student    1\n",
      "is he coming?                                                      1\n",
      "white F friends, said yeah 4x in 1 min                             1\n",
      "She always asks \"do you want…\"                                     1\n",
      "repeat after Jonathan                                              1\n",
      "asserting familiarity with the topic                               1\n",
      "more definite answer, conclusive tone                              1\n",
      "sounds good?                                                       1\n",
      "(yes response)                                                     1\n",
      "Can I get help?                                                    1\n",
      "repeat after Vincent                                               1\n",
      "request                                                            1\n",
      "Do you know where the bathroom is?                                 1\n",
      "Do you have any tissues?                                           1\n",
      "This student is touring a couple on campus                         1\n",
      "Will this event be next Sunday?                                    1\n",
      "Name: situational_context, dtype: int64\n",
      "Column is: ' location '\n",
      "class         71\n",
      "MLK           55\n",
      "apartment     47\n",
      "phone call    23\n",
      "street        10\n",
      "GBC           10\n",
      "restaurant     5\n",
      "RSF            3\n",
      "Name: location, dtype: int64\n",
      "Column is: ' response_type '\n",
      "Affirmation    196\n",
      "Declination     28\n",
      "Name: response_type, dtype: int64\n",
      "Column is: ' clean_response '\n",
      "yeah              111\n",
      "no                 19\n",
      "okay               14\n",
      "mm-hmm             12\n",
      "yes                10\n",
      "yeah yeah yeah      8\n",
      "sure                7\n",
      "alright             3\n",
      "right               3\n",
      "mm                  2\n",
      "nice                2\n",
      "uh-huh              2\n",
      "yeah okay           2\n",
      "nah                 2\n",
      "yep                 2\n",
      "that's cool         1\n",
      "aight               1\n",
      "exactly             1\n",
      "hopefully           1\n",
      "guess so            1\n",
      "okay yeah           1\n",
      "heck yeah           1\n",
      "no no no            1\n",
      "it's okay           1\n",
      "naw it's fine       1\n",
      "not really          1\n",
      "of course           1\n",
      "nope                1\n",
      "yeah yeah           1\n",
      "right right         1\n",
      "yes yes             1\n",
      "no it’s okay        1\n",
      "think so            1\n",
      "not sure            1\n",
      "yeah sure           1\n",
      "nice okay           1\n",
      "okay great          1\n",
      "sounds good         1\n",
      "yeah exactly        1\n",
      "no sorry            1\n",
      "Name: clean_response, dtype: int64\n"
     ]
    }
   ],
   "source": [
    "# Final check that my data is cleaned and ready to explore now\n",
    "for col in column_list:\n",
    "    if col != 'response':\n",
    "        print(\"Column is: '\", col, \"'\")\n",
    "        print(df[col].value_counts())"
   ]
  },
  {
   "cell_type": "code",
   "execution_count": null,
   "metadata": {},
   "outputs": [],
   "source": []
  },
  {
   "cell_type": "markdown",
   "metadata": {
    "colab_type": "text",
    "id": "slo41hAMHgjQ"
   },
   "source": [
    "## **Data Exploration and Visualization**"
   ]
  },
  {
   "cell_type": "code",
   "execution_count": 28,
   "metadata": {},
   "outputs": [],
   "source": [
    "yeses_df = df.loc[df['response_type'] == \"Affirmation\"]\n",
    "nos_df = df.loc[df['response_type'] == \"Declination\"]"
   ]
  },
  {
   "cell_type": "code",
   "execution_count": 29,
   "metadata": {},
   "outputs": [
    {
     "data": {
      "text/html": [
       "<div>\n",
       "<style scoped>\n",
       "    .dataframe tbody tr th:only-of-type {\n",
       "        vertical-align: middle;\n",
       "    }\n",
       "\n",
       "    .dataframe tbody tr th {\n",
       "        vertical-align: top;\n",
       "    }\n",
       "\n",
       "    .dataframe thead th {\n",
       "        text-align: right;\n",
       "    }\n",
       "</style>\n",
       "<table border=\"1\" class=\"dataframe\">\n",
       "  <thead>\n",
       "    <tr style=\"text-align: right;\">\n",
       "      <th></th>\n",
       "      <th>response</th>\n",
       "      <th>addresser</th>\n",
       "      <th>sex_addresser</th>\n",
       "      <th>race_addresser</th>\n",
       "      <th>relationship</th>\n",
       "      <th>addressee</th>\n",
       "      <th>sex_addressee</th>\n",
       "      <th>race_addressee</th>\n",
       "      <th>situational_context</th>\n",
       "      <th>location</th>\n",
       "      <th>response_type</th>\n",
       "      <th>clean_response</th>\n",
       "    </tr>\n",
       "  </thead>\n",
       "  <tbody>\n",
       "    <tr>\n",
       "      <th>0</th>\n",
       "      <td>Kay</td>\n",
       "      <td>Jonathan</td>\n",
       "      <td>M</td>\n",
       "      <td>East Asian</td>\n",
       "      <td>good friend</td>\n",
       "      <td>Vincent</td>\n",
       "      <td>M</td>\n",
       "      <td>East Asian</td>\n",
       "      <td>NaN</td>\n",
       "      <td>apartment</td>\n",
       "      <td>Affirmation</td>\n",
       "      <td>okay</td>\n",
       "    </tr>\n",
       "    <tr>\n",
       "      <th>1</th>\n",
       "      <td>Yeah</td>\n",
       "      <td>Vincent</td>\n",
       "      <td>M</td>\n",
       "      <td>East Asian</td>\n",
       "      <td>good friend</td>\n",
       "      <td>Jonathan</td>\n",
       "      <td>M</td>\n",
       "      <td>East Asian</td>\n",
       "      <td>NaN</td>\n",
       "      <td>apartment</td>\n",
       "      <td>Affirmation</td>\n",
       "      <td>yeah</td>\n",
       "    </tr>\n",
       "    <tr>\n",
       "      <th>2</th>\n",
       "      <td>Yeah</td>\n",
       "      <td>Jonathan</td>\n",
       "      <td>M</td>\n",
       "      <td>East Asian</td>\n",
       "      <td>good friend</td>\n",
       "      <td>Me</td>\n",
       "      <td>M</td>\n",
       "      <td>East Asian</td>\n",
       "      <td>NaN</td>\n",
       "      <td>apartment</td>\n",
       "      <td>Affirmation</td>\n",
       "      <td>yeah</td>\n",
       "    </tr>\n",
       "    <tr>\n",
       "      <th>3</th>\n",
       "      <td>Yeah</td>\n",
       "      <td>Ethan</td>\n",
       "      <td>M</td>\n",
       "      <td>East Asian</td>\n",
       "      <td>good friend</td>\n",
       "      <td>Jonathan</td>\n",
       "      <td>M</td>\n",
       "      <td>East Asian</td>\n",
       "      <td>NaN</td>\n",
       "      <td>apartment</td>\n",
       "      <td>Affirmation</td>\n",
       "      <td>yeah</td>\n",
       "    </tr>\n",
       "    <tr>\n",
       "      <th>4</th>\n",
       "      <td>Yeah</td>\n",
       "      <td>Ethan</td>\n",
       "      <td>M</td>\n",
       "      <td>East Asian</td>\n",
       "      <td>good friend</td>\n",
       "      <td>Me</td>\n",
       "      <td>M</td>\n",
       "      <td>East Asian</td>\n",
       "      <td>NaN</td>\n",
       "      <td>apartment</td>\n",
       "      <td>Affirmation</td>\n",
       "      <td>yeah</td>\n",
       "    </tr>\n",
       "  </tbody>\n",
       "</table>\n",
       "</div>"
      ],
      "text/plain": [
       "  response addresser sex_addresser race_addresser relationship addressee  \\\n",
       "0      Kay  Jonathan             M     East Asian  good friend   Vincent   \n",
       "1     Yeah   Vincent             M     East Asian  good friend  Jonathan   \n",
       "2     Yeah  Jonathan             M     East Asian  good friend        Me   \n",
       "3     Yeah     Ethan             M     East Asian  good friend  Jonathan   \n",
       "4     Yeah     Ethan             M     East Asian  good friend        Me   \n",
       "\n",
       "  sex_addressee race_addressee situational_context   location response_type  \\\n",
       "0             M     East Asian                 NaN  apartment   Affirmation   \n",
       "1             M     East Asian                 NaN  apartment   Affirmation   \n",
       "2             M     East Asian                 NaN  apartment   Affirmation   \n",
       "3             M     East Asian                 NaN  apartment   Affirmation   \n",
       "4             M     East Asian                 NaN  apartment   Affirmation   \n",
       "\n",
       "  clean_response  \n",
       "0           okay  \n",
       "1           yeah  \n",
       "2           yeah  \n",
       "3           yeah  \n",
       "4           yeah  "
      ]
     },
     "execution_count": 29,
     "metadata": {},
     "output_type": "execute_result"
    }
   ],
   "source": [
    "df.head()"
   ]
  },
  {
   "cell_type": "markdown",
   "metadata": {},
   "source": [
    "I am choosing to use this space to get counts and percentagies of certain groupings, such as the number and percentage of \"yes\" response variants for female addressers. These will then be visualized in more aesthetically pleasing plots and tables in Microsoft Word and Excel. There exist libraries that can generate good plots in Python (such as matplotlib and seaborn) but in the interest of time and familiarity, I will use the Microsoft suite.  "
   ]
  },
  {
   "cell_type": "markdown",
   "metadata": {},
   "source": [
    "## Grouping response variants"
   ]
  },
  {
   "cell_type": "code",
   "execution_count": 30,
   "metadata": {},
   "outputs": [
    {
     "name": "stdout",
     "output_type": "stream",
     "text": [
      "40\n"
     ]
    }
   ],
   "source": [
    "print(len(df['clean_response'].value_counts()))"
   ]
  },
  {
   "cell_type": "code",
   "execution_count": 31,
   "metadata": {
    "scrolled": true
   },
   "outputs": [
    {
     "name": "stdout",
     "output_type": "stream",
     "text": [
      "yeah              111\n",
      "okay               14\n",
      "mm-hmm             12\n",
      "yes                10\n",
      "yeah yeah yeah      8\n",
      "sure                7\n",
      "right               3\n",
      "alright             3\n",
      "uh-huh              2\n",
      "nice                2\n",
      "yep                 2\n",
      "yeah okay           2\n",
      "mm                  2\n",
      "yes yes             1\n",
      "hopefully           1\n",
      "it's okay           1\n",
      "aight               1\n",
      "sounds good         1\n",
      "that's cool         1\n",
      "okay great          1\n",
      "nice okay           1\n",
      "guess so            1\n",
      "right right         1\n",
      "yeah sure           1\n",
      "okay yeah           1\n",
      "heck yeah           1\n",
      "exactly             1\n",
      "yeah exactly        1\n",
      "think so            1\n",
      "yeah yeah           1\n",
      "of course           1\n",
      "Name: clean_response, dtype: int64\n"
     ]
    }
   ],
   "source": [
    "print(yeses_df['clean_response'].value_counts())"
   ]
  },
  {
   "cell_type": "code",
   "execution_count": 32,
   "metadata": {
    "scrolled": false
   },
   "outputs": [
    {
     "name": "stdout",
     "output_type": "stream",
     "text": [
      "no               19\n",
      "nah               2\n",
      "not sure          1\n",
      "nope              1\n",
      "no sorry          1\n",
      "naw it's fine     1\n",
      "no no no          1\n",
      "not really        1\n",
      "no it’s okay      1\n",
      "Name: clean_response, dtype: int64\n"
     ]
    }
   ],
   "source": [
    "print(nos_df['clean_response'].value_counts())"
   ]
  },
  {
   "cell_type": "code",
   "execution_count": 33,
   "metadata": {},
   "outputs": [],
   "source": [
    "# Because there are way too many types of response variants that I received, \n",
    "# I am going to group them into certain general categories of response variants. \n",
    "\n",
    "\n",
    "# For repeats of the same variant in one response, I will only count it as one response of that variant. \n",
    "# (Ex. If the addresser used \"yeah, yeah, yeah\", I counted that as one response of \"yeah\")\n",
    "# For mixtures of affirmation responses (i.e. \"okay yeah\"), I am going to group these into one category known as \"Mixture.\"\n",
    "# I was concerned with how I enumerated my data points, and in response with how I was to tally my data, \n",
    "# the following argument convinced me to tally counts in this manner. \n",
    "# If I chose to count my mixtures of affirmation responses as tallies for each affirmation \n",
    "# (i.e. \"okay yeah\" means 1 count of \"okay\" and 1 count of \"yeah\"), \n",
    "# then my counts of data points are no longer of the unique responses, but of the occurrence of each variant in an entire conversation. \n",
    "# I seek to look at each response as unique on its own, since repeats and mixtures of a variant serve the same purpose of \n",
    "# affirmation and declination. So, I will choose to tally the number of unique response variants \n",
    "# instead of the number of affirmation and declination words themselves. \n",
    "# For that reason, I choose to group the above responses into categories which show the true frequency of response variants,\n",
    "# and not that of response words themselves.\n",
    "\n",
    "# I grouped \"right\" and \"alright\" responses together as the \"Alright/Right\" category\n",
    "# For somewhat non-vocal affirmation and declination noises, I group them into the \"Sounds\" category. These include ...\n",
    "# Finally, I grouped the other less common response variants into the \"Other\" category. These include all \"yes\" responses\n",
    "# with count of two or lower.\n",
    "# These include .....\n",
    "\n",
    "# Grouping \"Yes\" responses\n",
    "df['response_group'] = df['clean_response']\n",
    "df['response_group'] = df['response_group'].str.replace(r\"[\\']\", \"\")  #Remove apostrophes\n",
    "\n",
    "df['response_group'].loc[df['response_group'] == 'yeah yeah'] = \"yeah\"    \n",
    "df['response_group'].loc[df['response_group'] == 'yeah yeah yeah'] = \"yeah\" \n",
    "df['response_group'].loc[df['response_group'] == 'yeah yeah'] = \"yeah\"    \n",
    "df['response_group'].loc[df['response_group'] == 'yeah yeah yeah'] = \"yeah\" \n",
    "df['response_group'].loc[df['response_group'] == 'heck yeah'] = \"yeah\"\n",
    "\n",
    "df['response_group'].loc[df['response_group'] == 'yes yes'] = \"yes\"\n",
    "\n",
    "df['response_group'].loc[df['response_group'] == 'okay yeah'] = \"mixture\"    \n",
    "df['response_group'].loc[df['response_group'] == 'yeah okay'] = \"mixture\" \n",
    "df['response_group'].loc[df['response_group'] == 'nice okay'] = \"mixture\" \n",
    "df['response_group'].loc[df['response_group'] == 'yeah exactly'] = \"mixture\" \n",
    "df['response_group'].loc[df['response_group'] == 'okay great'] = \"mixture\" \n",
    "df['response_group'].loc[df['response_group'] == 'yeah sure'] = \"mixture\"\n",
    "\n",
    "df['response_group'].loc[df['response_group'] == 'its okay'] = \"okay\"\n",
    "\n",
    "df['response_group'].loc[df['response_group'] == 'alright'] = \"Alright/Right\"    \n",
    "df['response_group'].loc[df['response_group'] == 'right'] = \"Alright/Right\"  \n",
    "df['response_group'].loc[df['response_group'] == 'right right'] = \"Alright/Right\" \n",
    "df['response_group'].loc[df['response_group'] == 'aight'] = \"Alright/Right\"\n",
    "\n",
    "df['response_group'].loc[df['response_group'] == 'mm-hmm'] = \"Sounds\"    \n",
    "df['response_group'].loc[df['response_group'] == 'mm'] = \"Sounds\" \n",
    "df['response_group'].loc[df['response_group'] == 'uh-huh'] = \"Sounds\"\n",
    "\n",
    "df['response_group'].loc[df['response_group'] == 'nice'] = \"Other\"  \n",
    "df['response_group'].loc[df['response_group'] == 'yep'] = \"Other\"  \n",
    "df['response_group'].loc[df['response_group'] == 'sounds good'] = \"Other\"  \n",
    "df['response_group'].loc[df['response_group'] == 'exactly'] = \"Other\"  \n",
    "df['response_group'].loc[df['response_group'] == 'think so'] = \"Other\"  \n",
    "df['response_group'].loc[df['response_group'] == 'of course'] = \"Other\"  \n",
    "df['response_group'].loc[df['response_group'] == 'guess so'] = \"Other\" \n",
    "df['response_group'].loc[df['response_group'] == 'hopefully'] = \"Other\" \n",
    "df['response_group'].loc[df['response_group'] == \"thats cool\"] = \"Other\" \n",
    "\n",
    "df['response_group'] = df['response_group'].str.strip()             #Remove leading and trailing  whitespace\n",
    "\n",
    "\n",
    "# Grouping \"No\" responses\n",
    "# Groupings: No, not __, nah, \"no\" combination - degree of emotion is shown using surrounding words, nope \n",
    "\n",
    "df['response_group'].loc[df['response_group'] == 'no no no'] = \"no\"    \n",
    "df['response_group'].loc[df['response_group'] == \"no it’s okay\"] = \"'no' combination\" \n",
    "df['response_group'].loc[df['response_group'] == 'no sorry'] = \"'no' combination\" \n",
    "df['response_group'].loc[df['response_group'] == \"naw its fine\"] = \"nah\" \n",
    "df['response_group'].loc[df['response_group'] == 'not really'] = \"not ___\"\n",
    "df['response_group'].loc[df['response_group'] == 'not sure'] = \"not ___\"\n",
    "\n",
    "df['response_group'] = df['response_group'].str.strip()             #Remove leading and trailing  whitespace\n",
    "\n",
    "\n",
    "# update my \"yes\" and \"no\" dataframes\n",
    "yeses_df = df.loc[df['response_type'] == \"Affirmation\"]\n",
    "nos_df = df.loc[df['response_type'] == \"Declination\"]"
   ]
  },
  {
   "cell_type": "code",
   "execution_count": 34,
   "metadata": {},
   "outputs": [
    {
     "name": "stdout",
     "output_type": "stream",
     "text": [
      "yeah             121\n",
      "Sounds            16\n",
      "okay              15\n",
      "Other             11\n",
      "yes               11\n",
      "Alright/Right      8\n",
      "sure               7\n",
      "mixture            7\n",
      "Name: response_group, dtype: int64\n"
     ]
    }
   ],
   "source": [
    "print(yeses_df['response_group'].value_counts())"
   ]
  },
  {
   "cell_type": "code",
   "execution_count": 35,
   "metadata": {
    "scrolled": false
   },
   "outputs": [
    {
     "name": "stdout",
     "output_type": "stream",
     "text": [
      "no                  20\n",
      "nah                  3\n",
      "not ___              2\n",
      "'no' combination     2\n",
      "nope                 1\n",
      "Name: response_group, dtype: int64\n"
     ]
    }
   ],
   "source": [
    "print(nos_df['response_group'].value_counts())"
   ]
  },
  {
   "cell_type": "markdown",
   "metadata": {},
   "source": [
    "I have a fairly even distribution of male and female addressers. I'm pretty happy about this. "
   ]
  },
  {
   "cell_type": "code",
   "execution_count": 36,
   "metadata": {},
   "outputs": [
    {
     "name": "stdout",
     "output_type": "stream",
     "text": [
      "M    117\n",
      "F    107\n",
      "Name: sex_addresser, dtype: int64\n"
     ]
    }
   ],
   "source": [
    "print(df['sex_addresser'].value_counts())"
   ]
  },
  {
   "cell_type": "markdown",
   "metadata": {},
   "source": [
    "### Exploring Gender of Addresser vs \"Yes\" and \"No\" Responses"
   ]
  },
  {
   "cell_type": "code",
   "execution_count": 37,
   "metadata": {
    "scrolled": true
   },
   "outputs": [
    {
     "name": "stdout",
     "output_type": "stream",
     "text": [
      "M    117\n",
      "F    107\n",
      "Name: sex_addresser, dtype: int64\n"
     ]
    }
   ],
   "source": [
    "print(df['sex_addresser'].value_counts())"
   ]
  },
  {
   "cell_type": "code",
   "execution_count": 38,
   "metadata": {
    "colab": {},
    "colab_type": "code",
    "id": "sagWbZVUHdhq"
   },
   "outputs": [
    {
     "name": "stdout",
     "output_type": "stream",
     "text": [
      "Female addresser, yeah:  61\n",
      "Female addresser, sounds:  8\n",
      "Female addresser, okay:  8\n",
      "Female addresser, yes:  5\n",
      "Female addresser, alright/right:  4\n",
      "Female addresser, sure:  1\n",
      "Female addresser, mixture:  4\n",
      "Female addresser, other:  3\n",
      "Total Female affirmation responses:  94\n",
      "\n",
      "\n",
      "Female addresser, no:  11\n",
      "Female addresser, nah:  1\n",
      "Female addresser, no comb:  0\n",
      "Female addresser, not __:  1\n",
      "Female addresser, nope:  0\n",
      "Total Female declination responses:  13\n"
     ]
    }
   ],
   "source": [
    "print(\"Female addresser, yeah: \", len(df.loc[(df['sex_addresser'] == \"F\") & (df['response_group'] == \"yeah\")]))\n",
    "print(\"Female addresser, sounds: \", len(df.loc[(df['sex_addresser'] == \"F\") & (df['response_group'] == \"Sounds\")]))\n",
    "print(\"Female addresser, okay: \", len(df.loc[(df['sex_addresser'] == \"F\") & (df['response_group'] == \"okay\")]))\n",
    "print(\"Female addresser, yes: \", len(df.loc[(df['sex_addresser'] == \"F\") & (df['response_group'] == \"yes\")]))\n",
    "print(\"Female addresser, alright/right: \", len(df.loc[(df['sex_addresser'] == \"F\") & (df['response_group'] == \"Alright/Right\")]))\n",
    "print(\"Female addresser, sure: \", len(df.loc[(df['sex_addresser'] == \"F\") & (df['response_group'] == \"sure\")]))\n",
    "print(\"Female addresser, mixture: \", len(df.loc[(df['sex_addresser'] == \"F\") & (df['response_group'] == \"mixture\")]))\n",
    "print(\"Female addresser, other: \", len(df.loc[(df['sex_addresser'] == \"F\") & (df['response_group'] == \"Other\")]))\n",
    "print(\"Total Female affirmation responses: \", len(yeses_df.loc[(yeses_df['sex_addresser'] == \"F\")]))\n",
    "\n",
    "print()\n",
    "print()\n",
    "\n",
    "print(\"Female addresser, no: \", len(df.loc[(df['sex_addresser'] == \"F\") & (df['response_group'] == \"no\")]))\n",
    "print(\"Female addresser, nah: \", len(df.loc[(df['sex_addresser'] == \"F\") & (df['response_group'] == \"nah\")]))\n",
    "print(\"Female addresser, no comb: \", len(df.loc[(df['sex_addresser'] == \"F\") & (df['response_group'] == \"'no' combination\")]))\n",
    "print(\"Female addresser, not __: \", len(df.loc[(df['sex_addresser'] == \"F\") & (df['response_group'] == \"not ___\")]))\n",
    "print(\"Female addresser, nope: \", len(df.loc[(df['sex_addresser'] == \"F\") & (df['response_group'] == \"nope\")]))\n",
    "print(\"Total Female declination responses: \", len(nos_df.loc[(nos_df['sex_addresser'] == \"F\")]))\n"
   ]
  },
  {
   "cell_type": "code",
   "execution_count": 39,
   "metadata": {
    "scrolled": true
   },
   "outputs": [
    {
     "name": "stdout",
     "output_type": "stream",
     "text": [
      "Male addresser, yeah:  60\n",
      "Male addresser, sounds:  8\n",
      "Male addresser, okay:  7\n",
      "Male addresser, yes:  6\n",
      "Male addresser, alright/right:  4\n",
      "Male addresser, sure:  6\n",
      "Male addresser, mixture:  3\n",
      "Male addresser, other:  8\n",
      "Total Male affirmation responses:  102\n",
      "\n",
      "\n",
      "Male addresser, no:  9\n",
      "Male addresser, nah:  2\n",
      "Male addresser, no comb:  2\n",
      "Male addresser, not __:  1\n",
      "Male addresser, nope:  1\n",
      "Total Male declination responses:  15\n"
     ]
    }
   ],
   "source": [
    "print(\"Male addresser, yeah: \", len(df.loc[(df['sex_addresser'] == \"M\") & (df['response_group'] == \"yeah\")]))\n",
    "print(\"Male addresser, sounds: \", len(df.loc[(df['sex_addresser'] == \"M\") & (df['response_group'] == \"Sounds\")]))\n",
    "print(\"Male addresser, okay: \", len(df.loc[(df['sex_addresser'] == \"M\") & (df['response_group'] == \"okay\")]))\n",
    "print(\"Male addresser, yes: \", len(df.loc[(df['sex_addresser'] == \"M\") & (df['response_group'] == \"yes\")]))\n",
    "print(\"Male addresser, alright/right: \", len(df.loc[(df['sex_addresser'] == \"M\") & (df['response_group'] == \"Alright/Right\")]))\n",
    "print(\"Male addresser, sure: \", len(df.loc[(df['sex_addresser'] == \"M\") & (df['response_group'] == \"sure\")]))\n",
    "print(\"Male addresser, mixture: \", len(df.loc[(df['sex_addresser'] == \"M\") & (df['response_group'] == \"mixture\")]))\n",
    "print(\"Male addresser, other: \", len(df.loc[(df['sex_addresser'] == \"M\") & (df['response_group'] == \"Other\")]))\n",
    "print(\"Total Male affirmation responses: \", len(yeses_df.loc[(yeses_df['sex_addresser'] == \"M\")]))\n",
    "\n",
    "print()\n",
    "print()\n",
    "\n",
    "print(\"Male addresser, no: \", len(df.loc[(df['sex_addresser'] == \"M\") & (df['response_group'] == \"no\")]))\n",
    "print(\"Male addresser, nah: \", len(df.loc[(df['sex_addresser'] == \"M\") & (df['response_group'] == \"nah\")]))\n",
    "print(\"Male addresser, no comb: \", len(df.loc[(df['sex_addresser'] == \"M\") & (df['response_group'] == \"'no' combination\")]))\n",
    "print(\"Male addresser, not __: \", len(df.loc[(df['sex_addresser'] == \"M\") & (df['response_group'] == \"not ___\")]))\n",
    "print(\"Male addresser, nope: \", len(df.loc[(df['sex_addresser'] == \"M\") & (df['response_group'] == \"nope\")]))\n",
    "print(\"Total Male declination responses: \", len(nos_df.loc[(nos_df['sex_addresser'] == \"M\")]))"
   ]
  },
  {
   "cell_type": "code",
   "execution_count": null,
   "metadata": {},
   "outputs": [],
   "source": []
  },
  {
   "cell_type": "markdown",
   "metadata": {},
   "source": [
    "### Exploring Gender of Addressee vs \"Yes\" and \"No\" Responses"
   ]
  },
  {
   "cell_type": "code",
   "execution_count": 40,
   "metadata": {},
   "outputs": [
    {
     "name": "stdout",
     "output_type": "stream",
     "text": [
      "M    172\n",
      "F     49\n",
      "Name: sex_addressee, dtype: int64\n"
     ]
    }
   ],
   "source": [
    "print(df['sex_addressee'].value_counts())"
   ]
  },
  {
   "cell_type": "code",
   "execution_count": 41,
   "metadata": {
    "colab": {},
    "colab_type": "code",
    "id": "sagWbZVUHdhq"
   },
   "outputs": [
    {
     "name": "stdout",
     "output_type": "stream",
     "text": [
      "Female addressee, yeah:  31\n",
      "Female addressee, sounds:  2\n",
      "Female addressee, okay:  2\n",
      "Female addressee, yes:  1\n",
      "Female addressee, alright/right:  3\n",
      "Female addressee, sure:  2\n",
      "Female addressee, mixture:  3\n",
      "Female addressee, other:  2\n",
      "Total Female affirmation responses:  46\n",
      "\n",
      "\n",
      "Female addressee, no:  3\n",
      "Female addressee, nah:  0\n",
      "Female addressee, no comb:  0\n",
      "Female addressee, not __:  0\n",
      "Female addressee, nope:  0\n",
      "Total Female declination responses:  3\n"
     ]
    }
   ],
   "source": [
    "print(\"Female addressee, yeah: \", len(df.loc[(df['sex_addressee'] == \"F\") & (df['response_group'] == \"yeah\")]))\n",
    "print(\"Female addressee, sounds: \", len(df.loc[(df['sex_addressee'] == \"F\") & (df['response_group'] == \"Sounds\")]))\n",
    "print(\"Female addressee, okay: \", len(df.loc[(df['sex_addressee'] == \"F\") & (df['response_group'] == \"okay\")]))\n",
    "print(\"Female addressee, yes: \", len(df.loc[(df['sex_addressee'] == \"F\") & (df['response_group'] == \"yes\")]))\n",
    "print(\"Female addressee, alright/right: \", len(df.loc[(df['sex_addressee'] == \"F\") & (df['response_group'] == \"Alright/Right\")]))\n",
    "print(\"Female addressee, sure: \", len(df.loc[(df['sex_addressee'] == \"F\") & (df['response_group'] == \"sure\")]))\n",
    "print(\"Female addressee, mixture: \", len(df.loc[(df['sex_addressee'] == \"F\") & (df['response_group'] == \"mixture\")]))\n",
    "print(\"Female addressee, other: \", len(df.loc[(df['sex_addressee'] == \"F\") & (df['response_group'] == \"Other\")]))\n",
    "print(\"Total Female affirmation responses: \", len(yeses_df.loc[(yeses_df['sex_addressee'] == \"F\")]))\n",
    "\n",
    "print()\n",
    "print()\n",
    "\n",
    "print(\"Female addressee, no: \", len(df.loc[(df['sex_addressee'] == \"F\") & (df['response_group'] == \"no\")]))\n",
    "print(\"Female addressee, nah: \", len(df.loc[(df['sex_addressee'] == \"F\") & (df['response_group'] == \"nah\")]))\n",
    "print(\"Female addressee, no comb: \", len(df.loc[(df['sex_addressee'] == \"F\") & (df['response_group'] == \"'no' combination\")]))\n",
    "print(\"Female addressee, not __: \", len(df.loc[(df['sex_addressee'] == \"F\") & (df['response_group'] == \"not ___\")]))\n",
    "print(\"Female addressee, nope: \", len(df.loc[(df['sex_addressee'] == \"F\") & (df['response_group'] == \"nope\")]))\n",
    "print(\"Total Female declination responses: \", len(nos_df.loc[(nos_df['sex_addressee'] == \"F\")]))\n"
   ]
  },
  {
   "cell_type": "code",
   "execution_count": 42,
   "metadata": {
    "scrolled": false
   },
   "outputs": [
    {
     "name": "stdout",
     "output_type": "stream",
     "text": [
      "Male addressee, yeah:  88\n",
      "Male addressee, sounds:  14\n",
      "Male addressee, okay:  13\n",
      "Male addressee, yes:  10\n",
      "Male addressee, alright/right:  5\n",
      "Male addressee, sure:  5\n",
      "Male addressee, mixture:  4\n",
      "Male addressee, other:  9\n",
      "Total Male affirmation responses:  148\n",
      "\n",
      "\n",
      "Male addressee, no:  16\n",
      "Male addressee, nah:  3\n",
      "Male addressee, no comb:  2\n",
      "Male addressee, not __:  2\n",
      "Male addressee, nope:  1\n",
      "Total Male declination responses:  24\n"
     ]
    }
   ],
   "source": [
    "print(\"Male addressee, yeah: \", len(df.loc[(df['sex_addressee'] == \"M\") & (df['response_group'] == \"yeah\")]))\n",
    "print(\"Male addressee, sounds: \", len(df.loc[(df['sex_addressee'] == \"M\") & (df['response_group'] == \"Sounds\")]))\n",
    "print(\"Male addressee, okay: \", len(df.loc[(df['sex_addressee'] == \"M\") & (df['response_group'] == \"okay\")]))\n",
    "print(\"Male addressee, yes: \", len(df.loc[(df['sex_addressee'] == \"M\") & (df['response_group'] == \"yes\")]))\n",
    "print(\"Male addressee, alright/right: \", len(df.loc[(df['sex_addressee'] == \"M\") & (df['response_group'] == \"Alright/Right\")]))\n",
    "print(\"Male addressee, sure: \", len(df.loc[(df['sex_addressee'] == \"M\") & (df['response_group'] == \"sure\")]))\n",
    "print(\"Male addressee, mixture: \", len(df.loc[(df['sex_addressee'] == \"M\") & (df['response_group'] == \"mixture\")]))\n",
    "print(\"Male addressee, other: \", len(df.loc[(df['sex_addressee'] == \"M\") & (df['response_group'] == \"Other\")]))\n",
    "print(\"Total Male affirmation responses: \", len(yeses_df.loc[(yeses_df['sex_addressee'] == \"M\")]))\n",
    "\n",
    "print()\n",
    "print()\n",
    "\n",
    "print(\"Male addressee, no: \", len(df.loc[(df['sex_addressee'] == \"M\") & (df['response_group'] == \"no\")]))\n",
    "print(\"Male addressee, nah: \", len(df.loc[(df['sex_addressee'] == \"M\") & (df['response_group'] == \"nah\")]))\n",
    "print(\"Male addressee, no comb: \", len(df.loc[(df['sex_addressee'] == \"M\") & (df['response_group'] == \"'no' combination\")]))\n",
    "print(\"Male addressee, not __: \", len(df.loc[(df['sex_addressee'] == \"M\") & (df['response_group'] == \"not ___\")]))\n",
    "print(\"Male addressee, nope: \", len(df.loc[(df['sex_addressee'] == \"M\") & (df['response_group'] == \"nope\")]))\n",
    "print(\"Total Male declination responses: \", len(nos_df.loc[(nos_df['sex_addressee'] == \"M\")]))"
   ]
  },
  {
   "cell_type": "code",
   "execution_count": null,
   "metadata": {},
   "outputs": [],
   "source": []
  },
  {
   "cell_type": "code",
   "execution_count": null,
   "metadata": {},
   "outputs": [],
   "source": []
  },
  {
   "cell_type": "code",
   "execution_count": null,
   "metadata": {},
   "outputs": [],
   "source": []
  },
  {
   "cell_type": "code",
   "execution_count": null,
   "metadata": {},
   "outputs": [],
   "source": []
  },
  {
   "cell_type": "markdown",
   "metadata": {},
   "source": [
    "## Grouping formality of relationship "
   ]
  },
  {
   "cell_type": "code",
   "execution_count": 43,
   "metadata": {},
   "outputs": [
    {
     "name": "stdout",
     "output_type": "stream",
     "text": [
      "['response', 'addresser', 'sex_addresser', 'race_addresser', 'relationship', 'addressee', 'sex_addressee', 'race_addressee', 'situational_context', 'location', 'response_type', 'clean_response', 'response_group']\n"
     ]
    }
   ],
   "source": [
    "column_list = list(df.columns)\n",
    "print(column_list)"
   ]
  },
  {
   "cell_type": "code",
   "execution_count": 44,
   "metadata": {},
   "outputs": [
    {
     "name": "stdout",
     "output_type": "stream",
     "text": [
      "friend            87\n",
      "good friend       71\n",
      "teaching          32\n",
      "fellow student    17\n",
      "customer           7\n",
      "parent             3\n",
      "acquaintance       2\n",
      "strangers          2\n",
      "on the phone       1\n",
      "Name: relationship, dtype: int64\n"
     ]
    }
   ],
   "source": [
    "print(df['relationship'].value_counts())"
   ]
  },
  {
   "cell_type": "code",
   "execution_count": null,
   "metadata": {},
   "outputs": [],
   "source": []
  },
  {
   "cell_type": "code",
   "execution_count": 45,
   "metadata": {},
   "outputs": [],
   "source": [
    "# I decided to group the formality of relationships using the following metric. \n",
    "\n",
    "# I grouped \"friend\", \"good friend\", \"fellow student\", and \"on the phone\" into the \"Informal\" category. \n",
    "# I grouped \"teaching\", \"customer\", \"parent\", \"acquaintance\", \"strangers\" into the \"Formal\" category.\n",
    "\n",
    "df['formality'] = df['relationship']\n",
    "\n",
    "df['formality'].loc[df['formality'] == 'friend'] = \"informal\"    \n",
    "df['formality'].loc[df['formality'] == 'good friend'] = \"informal\" \n",
    "df['formality'].loc[df['formality'] == 'fellow student'] = \"informal\"    \n",
    "df['formality'].loc[df['formality'] == 'on the phone'] = \"informal\" \n",
    "\n",
    "df['formality'].loc[df['formality'] == 'teaching'] = \"formal\"    \n",
    "df['formality'].loc[df['formality'] == 'customer'] = \"formal\" \n",
    "df['formality'].loc[df['formality'] == 'parent'] = \"formal\"    \n",
    "df['formality'].loc[df['formality'] == 'acquaintance'] = \"formal\" \n",
    "df['formality'].loc[df['formality'] == 'strangers'] = \"formal\" \n",
    "\n",
    "df['formality'] = df['formality'].str.strip()             #Remove leading and trailing  whitespace\n",
    "\n",
    "\n",
    "# update my \"yes\" and \"no\" dataframes\n",
    "yeses_df = df.loc[df['response_type'] == \"Affirmation\"]\n",
    "nos_df = df.loc[df['response_type'] == \"Declination\"]"
   ]
  },
  {
   "cell_type": "code",
   "execution_count": 46,
   "metadata": {},
   "outputs": [
    {
     "name": "stdout",
     "output_type": "stream",
     "text": [
      "informal    152\n",
      "formal       42\n",
      "Name: formality, dtype: int64\n"
     ]
    }
   ],
   "source": [
    "print(yeses_df['formality'].value_counts())"
   ]
  },
  {
   "cell_type": "code",
   "execution_count": 47,
   "metadata": {
    "scrolled": false
   },
   "outputs": [
    {
     "name": "stdout",
     "output_type": "stream",
     "text": [
      "informal    24\n",
      "formal       4\n",
      "Name: formality, dtype: int64\n"
     ]
    }
   ],
   "source": [
    "print(nos_df['formality'].value_counts())"
   ]
  },
  {
   "cell_type": "code",
   "execution_count": 48,
   "metadata": {},
   "outputs": [
    {
     "name": "stdout",
     "output_type": "stream",
     "text": [
      "informal    176\n",
      "formal       46\n",
      "Name: formality, dtype: int64\n"
     ]
    }
   ],
   "source": [
    "print(df['formality'].value_counts())"
   ]
  },
  {
   "cell_type": "code",
   "execution_count": null,
   "metadata": {},
   "outputs": [],
   "source": []
  },
  {
   "cell_type": "markdown",
   "metadata": {},
   "source": [
    "### Exploring Formality of Relationship vs \"Yes\" and \"No\" Responses"
   ]
  },
  {
   "cell_type": "code",
   "execution_count": 49,
   "metadata": {
    "scrolled": true
   },
   "outputs": [
    {
     "name": "stdout",
     "output_type": "stream",
     "text": [
      "informal    176\n",
      "formal       46\n",
      "Name: formality, dtype: int64\n"
     ]
    }
   ],
   "source": [
    "print(df['formality'].value_counts())"
   ]
  },
  {
   "cell_type": "code",
   "execution_count": 50,
   "metadata": {
    "colab": {},
    "colab_type": "code",
    "id": "sagWbZVUHdhq"
   },
   "outputs": [
    {
     "name": "stdout",
     "output_type": "stream",
     "text": [
      "formal relationship, yeah:  24\n",
      "formal relationship, sounds:  3\n",
      "formal relationship, okay:  2\n",
      "formal relationship, yes:  2\n",
      "formal relationship, alright/right:  3\n",
      "formal relationship, sure:  1\n",
      "formal relationship, mixture:  2\n",
      "formal relationship, other:  5\n",
      "Total formal affirmation responses:  42\n",
      "\n",
      "\n",
      "formal relationship, no:  2\n",
      "formal relationship, nah:  1\n",
      "formal relationship, no comb:  1\n",
      "formal relationship, not __:  0\n",
      "formal relationship, nope:  0\n",
      "Total formal declination responses:  4\n"
     ]
    }
   ],
   "source": [
    "print(\"formal relationship, yeah: \", len(df.loc[(df['formality'] ==\"formal\") & (df['response_group'] == \"yeah\")]))\n",
    "print(\"formal relationship, sounds: \", len(df.loc[(df['formality'] ==\"formal\") & (df['response_group'] == \"Sounds\")]))\n",
    "print(\"formal relationship, okay: \", len(df.loc[(df['formality'] ==\"formal\") & (df['response_group'] == \"okay\")]))\n",
    "print(\"formal relationship, yes: \", len(df.loc[(df['formality'] ==\"formal\") & (df['response_group'] == \"yes\")]))\n",
    "print(\"formal relationship, alright/right: \", len(df.loc[(df['formality'] ==\"formal\") & (df['response_group'] == \"Alright/Right\")]))\n",
    "print(\"formal relationship, sure: \", len(df.loc[(df['formality'] ==\"formal\") & (df['response_group'] == \"sure\")]))\n",
    "print(\"formal relationship, mixture: \", len(df.loc[(df['formality'] ==\"formal\") & (df['response_group'] == \"mixture\")]))\n",
    "print(\"formal relationship, other: \", len(df.loc[(df['formality'] ==\"formal\") & (df['response_group'] == \"Other\")]))\n",
    "print(\"Total formal affirmation responses: \", len(yeses_df.loc[(yeses_df['formality'] ==\"formal\")]))\n",
    "\n",
    "print()\n",
    "print()\n",
    "\n",
    "print(\"formal relationship, no: \", len(df.loc[(df['formality'] ==\"formal\") & (df['response_group'] == \"no\")]))\n",
    "print(\"formal relationship, nah: \", len(df.loc[(df['formality'] ==\"formal\") & (df['response_group'] == \"nah\")]))\n",
    "print(\"formal relationship, no comb: \", len(df.loc[(df['formality'] ==\"formal\") & (df['response_group'] == \"'no' combination\")]))\n",
    "print(\"formal relationship, not __: \", len(df.loc[(df['formality'] ==\"formal\") & (df['response_group'] == \"not ___\")]))\n",
    "print(\"formal relationship, nope: \", len(df.loc[(df['formality'] ==\"formal\") & (df['response_group'] == \"nope\")]))\n",
    "print(\"Total formal declination responses: \", len(nos_df.loc[(nos_df['formality'] ==\"formal\")]))\n"
   ]
  },
  {
   "cell_type": "code",
   "execution_count": 51,
   "metadata": {
    "scrolled": true
   },
   "outputs": [
    {
     "name": "stdout",
     "output_type": "stream",
     "text": [
      "informal relationship, yeah:  95\n",
      "informal relationship, sounds:  13\n",
      "informal relationship, okay:  13\n",
      "informal relationship, yes:  9\n",
      "informal relationship, alright/right:  5\n",
      "informal relationship, sure:  6\n",
      "informal relationship, mixture:  5\n",
      "informal relationship, other:  6\n",
      "Total informal affirmation responses:  152\n",
      "\n",
      "\n",
      "informal relationship, no:  18\n",
      "informal relationship, nah:  2\n",
      "informal relationship, no comb:  1\n",
      "informal relationship, not __:  2\n",
      "informal relationship, nope:  1\n",
      "Total informal declination responses:  24\n"
     ]
    }
   ],
   "source": [
    "print(\"informal relationship, yeah: \", len(df.loc[(df['formality'] ==\"informal\") & (df['response_group'] == \"yeah\")]))\n",
    "print(\"informal relationship, sounds: \", len(df.loc[(df['formality'] ==\"informal\") & (df['response_group'] == \"Sounds\")]))\n",
    "print(\"informal relationship, okay: \", len(df.loc[(df['formality'] ==\"informal\") & (df['response_group'] == \"okay\")]))\n",
    "print(\"informal relationship, yes: \", len(df.loc[(df['formality'] ==\"informal\") & (df['response_group'] == \"yes\")]))\n",
    "print(\"informal relationship, alright/right: \", len(df.loc[(df['formality'] ==\"informal\") & (df['response_group'] == \"Alright/Right\")]))\n",
    "print(\"informal relationship, sure: \", len(df.loc[(df['formality'] ==\"informal\") & (df['response_group'] == \"sure\")]))\n",
    "print(\"informal relationship, mixture: \", len(df.loc[(df['formality'] ==\"informal\") & (df['response_group'] == \"mixture\")]))\n",
    "print(\"informal relationship, other: \", len(df.loc[(df['formality'] ==\"informal\") & (df['response_group'] == \"Other\")]))\n",
    "print(\"Total informal affirmation responses: \", len(yeses_df.loc[(yeses_df['formality'] ==\"informal\")]))\n",
    "\n",
    "print()\n",
    "print()\n",
    "\n",
    "print(\"informal relationship, no: \", len(df.loc[(df['formality'] ==\"informal\") & (df['response_group'] == \"no\")]))\n",
    "print(\"informal relationship, nah: \", len(df.loc[(df['formality'] ==\"informal\") & (df['response_group'] == \"nah\")]))\n",
    "print(\"informal relationship, no comb: \", len(df.loc[(df['formality'] ==\"informal\") & (df['response_group'] == \"'no' combination\")]))\n",
    "print(\"informal relationship, not __: \", len(df.loc[(df['formality'] ==\"informal\") & (df['response_group'] == \"not ___\")]))\n",
    "print(\"informal relationship, nope: \", len(df.loc[(df['formality'] ==\"informal\") & (df['response_group'] == \"nope\")]))\n",
    "print(\"Total informal declination responses: \", len(nos_df.loc[(nos_df['formality'] ==\"informal\")]))\n"
   ]
  },
  {
   "cell_type": "code",
   "execution_count": null,
   "metadata": {},
   "outputs": [],
   "source": []
  },
  {
   "cell_type": "code",
   "execution_count": null,
   "metadata": {},
   "outputs": [],
   "source": []
  },
  {
   "cell_type": "code",
   "execution_count": null,
   "metadata": {},
   "outputs": [],
   "source": []
  },
  {
   "cell_type": "markdown",
   "metadata": {},
   "source": [
    "## Grouping publicity of location"
   ]
  },
  {
   "cell_type": "code",
   "execution_count": 52,
   "metadata": {},
   "outputs": [
    {
     "name": "stdout",
     "output_type": "stream",
     "text": [
      "['response', 'addresser', 'sex_addresser', 'race_addresser', 'relationship', 'addressee', 'sex_addressee', 'race_addressee', 'situational_context', 'location', 'response_type', 'clean_response', 'response_group', 'formality']\n"
     ]
    }
   ],
   "source": [
    "column_list = list(df.columns)\n",
    "print(column_list)"
   ]
  },
  {
   "cell_type": "code",
   "execution_count": 53,
   "metadata": {},
   "outputs": [
    {
     "name": "stdout",
     "output_type": "stream",
     "text": [
      "class         71\n",
      "MLK           55\n",
      "apartment     47\n",
      "phone call    23\n",
      "street        10\n",
      "GBC           10\n",
      "restaurant     5\n",
      "RSF            3\n",
      "Name: location, dtype: int64\n"
     ]
    }
   ],
   "source": [
    "print(df['location'].value_counts())"
   ]
  },
  {
   "cell_type": "code",
   "execution_count": null,
   "metadata": {},
   "outputs": [],
   "source": []
  },
  {
   "cell_type": "code",
   "execution_count": 54,
   "metadata": {},
   "outputs": [],
   "source": [
    "# I decided to group the publicity of locations based on whether it was a public or private area and how crowded it was, \n",
    "# in essence, giving a measure of how close other people excluded from the conversation are within the surrounding vicinity.\n",
    "\n",
    "# I grouped \"MLK\", \"class\", and \"restaurant\" into the \"Public & Crowded\" category. \n",
    "# I grouped \"GBC\", \"street\", and \"RSF\" into the \"Public & Spacious\" category.\n",
    "# I grouped \"apartment\" into the \"Private & Crowded\" category. \n",
    "# I grouped \"phone call\" into the \"Private & Spacious\" category.\n",
    "\n",
    "df['publicity_of_location'] = df['location']\n",
    "\n",
    "df['publicity_of_location'].loc[df['publicity_of_location'] == 'MLK'] = \"Public and Crowded\"    \n",
    "df['publicity_of_location'].loc[df['publicity_of_location'] == 'class'] = \"Public and Crowded\" \n",
    "df['publicity_of_location'].loc[df['publicity_of_location'] == 'restaurant'] = \"Public and Crowded\" \n",
    "\n",
    "df['publicity_of_location'].loc[df['publicity_of_location'] == 'GBC'] = \"Public and Spacious\"    \n",
    "df['publicity_of_location'].loc[df['publicity_of_location'] == 'street'] = \"Public and Spacious\" \n",
    "df['publicity_of_location'].loc[df['publicity_of_location'] == 'RSF'] = \"Public and Spacious\" \n",
    "\n",
    "df['publicity_of_location'].loc[df['publicity_of_location'] == 'apartment'] = \"Private and Crowded\"    \n",
    "\n",
    "df['publicity_of_location'].loc[df['publicity_of_location'] == 'phone call'] = \"Private and Spacious\"    \n",
    "\n",
    "df['publicity_of_location'] = df['publicity_of_location'].str.strip()             #Remove leading and trailing  whitespace\n",
    "\n",
    "\n",
    "# update my \"yes\" and \"no\" dataframes\n",
    "yeses_df = df.loc[df['response_type'] == \"Affirmation\"]\n",
    "nos_df = df.loc[df['response_type'] == \"Declination\"]"
   ]
  },
  {
   "cell_type": "code",
   "execution_count": 55,
   "metadata": {},
   "outputs": [
    {
     "name": "stdout",
     "output_type": "stream",
     "text": [
      "Public and Crowded      112\n",
      "Private and Crowded      42\n",
      "Public and Spacious      22\n",
      "Private and Spacious     20\n",
      "Name: publicity_of_location, dtype: int64\n"
     ]
    }
   ],
   "source": [
    "print(yeses_df['publicity_of_location'].value_counts())"
   ]
  },
  {
   "cell_type": "code",
   "execution_count": 56,
   "metadata": {
    "scrolled": false
   },
   "outputs": [
    {
     "name": "stdout",
     "output_type": "stream",
     "text": [
      "Public and Crowded      19\n",
      "Private and Crowded      5\n",
      "Private and Spacious     3\n",
      "Public and Spacious      1\n",
      "Name: publicity_of_location, dtype: int64\n"
     ]
    }
   ],
   "source": [
    "print(nos_df['publicity_of_location'].value_counts())"
   ]
  },
  {
   "cell_type": "code",
   "execution_count": 57,
   "metadata": {},
   "outputs": [
    {
     "name": "stdout",
     "output_type": "stream",
     "text": [
      "Public and Crowded      131\n",
      "Private and Crowded      47\n",
      "Public and Spacious      23\n",
      "Private and Spacious     23\n",
      "Name: publicity_of_location, dtype: int64\n"
     ]
    }
   ],
   "source": [
    "print(df['publicity_of_location'].value_counts())"
   ]
  },
  {
   "cell_type": "code",
   "execution_count": null,
   "metadata": {},
   "outputs": [],
   "source": []
  },
  {
   "cell_type": "code",
   "execution_count": null,
   "metadata": {},
   "outputs": [],
   "source": []
  },
  {
   "cell_type": "code",
   "execution_count": null,
   "metadata": {},
   "outputs": [],
   "source": []
  },
  {
   "cell_type": "markdown",
   "metadata": {},
   "source": [
    "### Exploring Publicity of Location vs \"Yes\" and \"No\" Responses"
   ]
  },
  {
   "cell_type": "code",
   "execution_count": 58,
   "metadata": {
    "scrolled": true
   },
   "outputs": [
    {
     "name": "stdout",
     "output_type": "stream",
     "text": [
      "Public and Crowded      131\n",
      "Private and Crowded      47\n",
      "Public and Spacious      23\n",
      "Private and Spacious     23\n",
      "Name: publicity_of_location, dtype: int64\n"
     ]
    }
   ],
   "source": [
    "print(df['publicity_of_location'].value_counts())"
   ]
  },
  {
   "cell_type": "code",
   "execution_count": 59,
   "metadata": {
    "colab": {},
    "colab_type": "code",
    "id": "sagWbZVUHdhq"
   },
   "outputs": [
    {
     "name": "stdout",
     "output_type": "stream",
     "text": [
      "public and crowded, yeah:  67\n",
      "public and crowded, sounds:  10\n",
      "public and crowded, okay:  8\n",
      "public and crowded, yes:  7\n",
      "public and crowded, alright/right:  4\n",
      "public and crowded, sure:  3\n",
      "public and crowded, mixture:  6\n",
      "public and crowded, other:  7\n",
      "Total public & crowded affirmation responses:  112\n",
      "\n",
      "\n",
      "public and crowded, no:  14\n",
      "public and crowded, nah:  2\n",
      "public and crowded, no comb:  1\n",
      "public and crowded, not __:  2\n",
      "public and crowded, nope:  0\n",
      "Total public & crowded declination responses:  19\n"
     ]
    }
   ],
   "source": [
    "print(\"public and crowded, yeah: \", len(df.loc[(df['publicity_of_location'] == \"Public and Crowded\") & (df['response_group'] == \"yeah\")]))\n",
    "print(\"public and crowded, sounds: \", len(df.loc[(df['publicity_of_location'] == \"Public and Crowded\") & (df['response_group'] == \"Sounds\")]))\n",
    "print(\"public and crowded, okay: \", len(df.loc[(df['publicity_of_location'] == \"Public and Crowded\") & (df['response_group'] == \"okay\")]))\n",
    "print(\"public and crowded, yes: \", len(df.loc[(df['publicity_of_location'] == \"Public and Crowded\") & (df['response_group'] == \"yes\")]))\n",
    "print(\"public and crowded, alright/right: \", len(df.loc[(df['publicity_of_location'] == \"Public and Crowded\") & (df['response_group'] == \"Alright/Right\")]))\n",
    "print(\"public and crowded, sure: \", len(df.loc[(df['publicity_of_location'] == \"Public and Crowded\") & (df['response_group'] == \"sure\")]))\n",
    "print(\"public and crowded, mixture: \", len(df.loc[(df['publicity_of_location'] == \"Public and Crowded\") & (df['response_group'] == \"mixture\")]))\n",
    "print(\"public and crowded, other: \", len(df.loc[(df['publicity_of_location'] == \"Public and Crowded\") & (df['response_group'] == \"Other\")]))\n",
    "print(\"Total public & crowded affirmation responses: \", len(yeses_df.loc[(yeses_df['publicity_of_location'] == \"Public and Crowded\")]))\n",
    "\n",
    "print()\n",
    "print()\n",
    "\n",
    "print(\"public and crowded, no: \", len(df.loc[(df['publicity_of_location'] == \"Public and Crowded\") & (df['response_group'] == \"no\")]))\n",
    "print(\"public and crowded, nah: \", len(df.loc[(df['publicity_of_location'] == \"Public and Crowded\") & (df['response_group'] == \"nah\")]))\n",
    "print(\"public and crowded, no comb: \", len(df.loc[(df['publicity_of_location'] == \"Public and Crowded\") & (df['response_group'] == \"'no' combination\")]))\n",
    "print(\"public and crowded, not __: \", len(df.loc[(df['publicity_of_location'] == \"Public and Crowded\") & (df['response_group'] == \"not ___\")]))\n",
    "print(\"public and crowded, nope: \", len(df.loc[(df['publicity_of_location'] == \"Public and Crowded\") & (df['response_group'] == \"nope\")]))\n",
    "print(\"Total public & crowded declination responses: \", len(nos_df.loc[(nos_df['publicity_of_location'] == \"Public and Crowded\")]))\n"
   ]
  },
  {
   "cell_type": "code",
   "execution_count": 60,
   "metadata": {
    "scrolled": true
   },
   "outputs": [
    {
     "name": "stdout",
     "output_type": "stream",
     "text": [
      "public and spacious, yeah:  16\n",
      "public and spacious, sounds:  1\n",
      "public and spacious, okay:  1\n",
      "public and spacious, yes:  2\n",
      "public and spacious, alright/right:  1\n",
      "public and spacious, sure:  0\n",
      "public and spacious, mixture:  0\n",
      "public and spacious, other:  1\n",
      "Total public & crowded affirmation responses:  22\n",
      "\n",
      "\n",
      "public and spacious, no:  1\n",
      "public and spacious, nah:  0\n",
      "public and spacious, no comb:  0\n",
      "public and spacious, not __:  0\n",
      "public and spacious, nope:  0\n",
      "Total public & crowded declination responses:  1\n"
     ]
    }
   ],
   "source": [
    "print(\"public and spacious, yeah: \", len(df.loc[(df['publicity_of_location'] == \"Public and Spacious\") & (df['response_group'] == \"yeah\")]))\n",
    "print(\"public and spacious, sounds: \", len(df.loc[(df['publicity_of_location'] == \"Public and Spacious\") & (df['response_group'] == \"Sounds\")]))\n",
    "print(\"public and spacious, okay: \", len(df.loc[(df['publicity_of_location'] == \"Public and Spacious\") & (df['response_group'] == \"okay\")]))\n",
    "print(\"public and spacious, yes: \", len(df.loc[(df['publicity_of_location'] == \"Public and Spacious\") & (df['response_group'] == \"yes\")]))\n",
    "print(\"public and spacious, alright/right: \", len(df.loc[(df['publicity_of_location'] == \"Public and Spacious\") & (df['response_group'] == \"Alright/Right\")]))\n",
    "print(\"public and spacious, sure: \", len(df.loc[(df['publicity_of_location'] == \"Public and Spacious\") & (df['response_group'] == \"sure\")]))\n",
    "print(\"public and spacious, mixture: \", len(df.loc[(df['publicity_of_location'] == \"Public and Spacious\") & (df['response_group'] == \"mixture\")]))\n",
    "print(\"public and spacious, other: \", len(df.loc[(df['publicity_of_location'] == \"Public and Spacious\") & (df['response_group'] == \"Other\")]))\n",
    "print(\"Total public & crowded affirmation responses: \", len(yeses_df.loc[(yeses_df['publicity_of_location'] == \"Public and Spacious\")]))\n",
    "\n",
    "print()\n",
    "print()\n",
    "\n",
    "print(\"public and spacious, no: \", len(df.loc[(df['publicity_of_location'] == \"Public and Spacious\") & (df['response_group'] == \"no\")]))\n",
    "print(\"public and spacious, nah: \", len(df.loc[(df['publicity_of_location'] == \"Public and Spacious\") & (df['response_group'] == \"nah\")]))\n",
    "print(\"public and spacious, no comb: \", len(df.loc[(df['publicity_of_location'] == \"Public and Spacious\") & (df['response_group'] == \"'no' combination\")]))\n",
    "print(\"public and spacious, not __: \", len(df.loc[(df['publicity_of_location'] == \"Public and Spacious\") & (df['response_group'] == \"not ___\")]))\n",
    "print(\"public and spacious, nope: \", len(df.loc[(df['publicity_of_location'] == \"Public and Spacious\") & (df['response_group'] == \"nope\")]))\n",
    "print(\"Total public & crowded declination responses: \", len(nos_df.loc[(nos_df['publicity_of_location'] == \"Public and Spacious\")]))\n"
   ]
  },
  {
   "cell_type": "code",
   "execution_count": 61,
   "metadata": {},
   "outputs": [
    {
     "name": "stdout",
     "output_type": "stream",
     "text": [
      "private and crowded, yeah:  25\n",
      "private and crowded, sounds:  3\n",
      "private and crowded, okay:  3\n",
      "private and crowded, yes:  2\n",
      "private and crowded, alright/right:  1\n",
      "private and crowded, sure:  4\n",
      "private and crowded, mixture:  1\n",
      "private and crowded, other:  3\n",
      "Total private & crowded affirmation responses:  42\n",
      "\n",
      "\n",
      "private and crowded, no:  2\n",
      "private and crowded, nah:  1\n",
      "private and crowded, no comb:  1\n",
      "private and crowded, not __:  0\n",
      "private and crowded, nope:  1\n",
      "Total private & crowded declination responses:  5\n"
     ]
    }
   ],
   "source": [
    "print(\"private and crowded, yeah: \", len(df.loc[(df['publicity_of_location'] == \"Private and Crowded\") & (df['response_group'] == \"yeah\")]))\n",
    "print(\"private and crowded, sounds: \", len(df.loc[(df['publicity_of_location'] == \"Private and Crowded\") & (df['response_group'] == \"Sounds\")]))\n",
    "print(\"private and crowded, okay: \", len(df.loc[(df['publicity_of_location'] == \"Private and Crowded\") & (df['response_group'] == \"okay\")]))\n",
    "print(\"private and crowded, yes: \", len(df.loc[(df['publicity_of_location'] == \"Private and Crowded\") & (df['response_group'] == \"yes\")]))\n",
    "print(\"private and crowded, alright/right: \", len(df.loc[(df['publicity_of_location'] == \"Private and Crowded\") & (df['response_group'] == \"Alright/Right\")]))\n",
    "print(\"private and crowded, sure: \", len(df.loc[(df['publicity_of_location'] == \"Private and Crowded\") & (df['response_group'] == \"sure\")]))\n",
    "print(\"private and crowded, mixture: \", len(df.loc[(df['publicity_of_location'] == \"Private and Crowded\") & (df['response_group'] == \"mixture\")]))\n",
    "print(\"private and crowded, other: \", len(df.loc[(df['publicity_of_location'] == \"Private and Crowded\") & (df['response_group'] == \"Other\")]))\n",
    "print(\"Total private & crowded affirmation responses: \", len(yeses_df.loc[(yeses_df['publicity_of_location'] == \"Private and Crowded\")]))\n",
    "\n",
    "print()\n",
    "print()\n",
    "\n",
    "print(\"private and crowded, no: \", len(df.loc[(df['publicity_of_location'] == \"Private and Crowded\") & (df['response_group'] == \"no\")]))\n",
    "print(\"private and crowded, nah: \", len(df.loc[(df['publicity_of_location'] == \"Private and Crowded\") & (df['response_group'] == \"nah\")]))\n",
    "print(\"private and crowded, no comb: \", len(df.loc[(df['publicity_of_location'] == \"Private and Crowded\") & (df['response_group'] == \"'no' combination\")]))\n",
    "print(\"private and crowded, not __: \", len(df.loc[(df['publicity_of_location'] == \"Private and Crowded\") & (df['response_group'] == \"not ___\")]))\n",
    "print(\"private and crowded, nope: \", len(df.loc[(df['publicity_of_location'] == \"Private and Crowded\") & (df['response_group'] == \"nope\")]))\n",
    "print(\"Total private & crowded declination responses: \", len(nos_df.loc[(nos_df['publicity_of_location'] == \"Private and Crowded\")]))\n"
   ]
  },
  {
   "cell_type": "code",
   "execution_count": 62,
   "metadata": {},
   "outputs": [
    {
     "name": "stdout",
     "output_type": "stream",
     "text": [
      "private and spacious, yeah:  13\n",
      "private and spacious, sounds:  2\n",
      "private and spacious, okay:  3\n",
      "private and spacious, yes:  0\n",
      "private and spacious, alright/right:  2\n",
      "private and spacious, sure:  0\n",
      "private and spacious, mixture:  0\n",
      "private and spacious, other:  0\n",
      "Total private & spacious affirmation responses:  20\n",
      "\n",
      "\n",
      "private and spacious, no:  3\n",
      "private and spacious, nah:  0\n",
      "private and spacious, no comb:  0\n",
      "private and spacious, not __:  0\n",
      "private and spacious, nope:  0\n",
      "Total private & spacious declination responses:  3\n"
     ]
    }
   ],
   "source": [
    "print(\"private and spacious, yeah: \", len(df.loc[(df['publicity_of_location'] == \"Private and Spacious\") & (df['response_group'] == \"yeah\")]))\n",
    "print(\"private and spacious, sounds: \", len(df.loc[(df['publicity_of_location'] == \"Private and Spacious\") & (df['response_group'] == \"Sounds\")]))\n",
    "print(\"private and spacious, okay: \", len(df.loc[(df['publicity_of_location'] == \"Private and Spacious\") & (df['response_group'] == \"okay\")]))\n",
    "print(\"private and spacious, yes: \", len(df.loc[(df['publicity_of_location'] == \"Private and Spacious\") & (df['response_group'] == \"yes\")]))\n",
    "print(\"private and spacious, alright/right: \", len(df.loc[(df['publicity_of_location'] == \"Private and Spacious\") & (df['response_group'] == \"Alright/Right\")]))\n",
    "print(\"private and spacious, sure: \", len(df.loc[(df['publicity_of_location'] == \"Private and Spacious\") & (df['response_group'] == \"sure\")]))\n",
    "print(\"private and spacious, mixture: \", len(df.loc[(df['publicity_of_location'] == \"Private and Spacious\") & (df['response_group'] == \"mixture\")]))\n",
    "print(\"private and spacious, other: \", len(df.loc[(df['publicity_of_location'] == \"Private and Spacious\") & (df['response_group'] == \"Other\")]))\n",
    "print(\"Total private & spacious affirmation responses: \", len(yeses_df.loc[(yeses_df['publicity_of_location'] == \"Private and Spacious\")]))\n",
    "\n",
    "print()\n",
    "print()\n",
    "\n",
    "print(\"private and spacious, no: \", len(df.loc[(df['publicity_of_location'] == \"Private and Spacious\") & (df['response_group'] == \"no\")]))\n",
    "print(\"private and spacious, nah: \", len(df.loc[(df['publicity_of_location'] == \"Private and Spacious\") & (df['response_group'] == \"nah\")]))\n",
    "print(\"private and spacious, no comb: \", len(df.loc[(df['publicity_of_location'] == \"Private and Spacious\") & (df['response_group'] == \"'no' combination\")]))\n",
    "print(\"private and spacious, not __: \", len(df.loc[(df['publicity_of_location'] == \"Private and Spacious\") & (df['response_group'] == \"not ___\")]))\n",
    "print(\"private and spacious, nope: \", len(df.loc[(df['publicity_of_location'] == \"Private and Spacious\") & (df['response_group'] == \"nope\")]))\n",
    "print(\"Total private & spacious declination responses: \", len(nos_df.loc[(nos_df['publicity_of_location'] == \"Private and Spacious\")]))\n"
   ]
  },
  {
   "cell_type": "code",
   "execution_count": 63,
   "metadata": {},
   "outputs": [],
   "source": [
    "# Plotting code - for another day perhaps....\n",
    "# yes_count_female = yeses_df.loc[yeses_df['sex_addresser'] == \"F\"].groupby('response').count()\n",
    "# yes_count_female = yes_count_female.reset_index()\n",
    "# sns.barplot(x='response', y='sex_addresser', data=yes_count_female, order=order, ax=ax1)\n",
    "# ax1.set_title(\"Frequency Distribution of 'Yes' Responses of Females\")\n",
    "# ax1.set_xlabel(\"Affirmation Variants\")\n",
    "# ax1.set_ylabel('Frequency (%)')\n",
    "            \n",
    "# plt.show();"
   ]
  },
  {
   "cell_type": "code",
   "execution_count": null,
   "metadata": {},
   "outputs": [],
   "source": []
  },
  {
   "cell_type": "code",
   "execution_count": null,
   "metadata": {},
   "outputs": [],
   "source": []
  }
 ],
 "metadata": {
  "colab": {
   "collapsed_sections": [],
   "name": "Ling150_Data_analysis.ipynb",
   "provenance": []
  },
  "kernelspec": {
   "display_name": "Python 3",
   "language": "python",
   "name": "python3"
  },
  "language_info": {
   "codemirror_mode": {
    "name": "ipython",
    "version": 3
   },
   "file_extension": ".py",
   "mimetype": "text/x-python",
   "name": "python",
   "nbconvert_exporter": "python",
   "pygments_lexer": "ipython3",
   "version": "3.7.3"
  }
 },
 "nbformat": 4,
 "nbformat_minor": 1
}
